{
  "nbformat": 4,
  "nbformat_minor": 0,
  "metadata": {
    "colab": {
      "provenance": []
    },
    "kernelspec": {
      "name": "python3",
      "display_name": "Python 3"
    },
    "language_info": {
      "name": "python"
    }
  },
  "cells": [
    {
      "cell_type": "code",
      "execution_count": null,
      "metadata": {
        "id": "hnDhXlbzkE-w"
      },
      "outputs": [],
      "source": [
        "import pandas\n"
      ]
    },
    {
      "cell_type": "code",
      "source": [
        "print('Hi')"
      ],
      "metadata": {
        "colab": {
          "base_uri": "https://localhost:8080/"
        },
        "id": "d_CmyhZNlhQX",
        "outputId": "bc8ad2e7-0500-44e7-f9ae-66ea7fb5d387"
      },
      "execution_count": null,
      "outputs": [
        {
          "output_type": "stream",
          "name": "stdout",
          "text": [
            "Hi\n"
          ]
        }
      ]
    },
    {
      "cell_type": "code",
      "source": [
        "print(17*13)"
      ],
      "metadata": {
        "colab": {
          "base_uri": "https://localhost:8080/"
        },
        "id": "ZKxI122ZljS6",
        "outputId": "c5fc3c2c-2462-4e19-a9bb-696a745e5f14"
      },
      "execution_count": null,
      "outputs": [
        {
          "output_type": "stream",
          "name": "stdout",
          "text": [
            "221\n"
          ]
        }
      ]
    },
    {
      "cell_type": "code",
      "source": [
        "print(\"hey I am a good boy \\n and this viewer is also a good boy or girl \")\n"
      ],
      "metadata": {
        "colab": {
          "base_uri": "https://localhost:8080/"
        },
        "id": "7QosG4qqmdSm",
        "outputId": "36d2a568-bcd0-4cf4-cb08-f634b3ac1045"
      },
      "execution_count": null,
      "outputs": [
        {
          "output_type": "stream",
          "name": "stdout",
          "text": [
            "hey I am a good boy \n",
            " and this viewer is also a good boy or girl \n"
          ]
        }
      ]
    },
    {
      "cell_type": "code",
      "source": [
        "''' Hi this is sai kiran'''"
      ],
      "metadata": {
        "colab": {
          "base_uri": "https://localhost:8080/",
          "height": 35
        },
        "id": "oDYHB-5um6vx",
        "outputId": "f0d4ac5e-6df5-47b2-97c2-98eaeca7b01d"
      },
      "execution_count": null,
      "outputs": [
        {
          "output_type": "execute_result",
          "data": {
            "text/plain": [
              "' Hi this is sai kiran'"
            ],
            "application/vnd.google.colaboratory.intrinsic+json": {
              "type": "string"
            }
          },
          "metadata": {},
          "execution_count": 5
        }
      ]
    },
    {
      "cell_type": "code",
      "source": [
        "print(\"I am \\\"sai kiran\\\"\")"
      ],
      "metadata": {
        "colab": {
          "base_uri": "https://localhost:8080/"
        },
        "id": "-y_ASI6enuIE",
        "outputId": "9f69698c-9e5f-43e3-fe7e-817965e52b5c"
      },
      "execution_count": null,
      "outputs": [
        {
          "output_type": "stream",
          "name": "stdout",
          "text": [
            "I am \"sai kiran\"\n"
          ]
        }
      ]
    },
    {
      "cell_type": "code",
      "source": [
        "print(\"hey\",6,7,sep=\"&\",end=\"END\")"
      ],
      "metadata": {
        "colab": {
          "base_uri": "https://localhost:8080/"
        },
        "id": "-ecLdmvGo4BR",
        "outputId": "e6b3e3ac-b4e1-468e-ca87-ea55cac3a6dc"
      },
      "execution_count": null,
      "outputs": [
        {
          "output_type": "stream",
          "name": "stdout",
          "text": [
            "hey&6&7END"
          ]
        }
      ]
    },
    {
      "cell_type": "code",
      "source": [
        "list1=[8,2.3,[-4,5],\"str\"]\n",
        "print(list1)"
      ],
      "metadata": {
        "colab": {
          "base_uri": "https://localhost:8080/"
        },
        "id": "215Ke4Eib490",
        "outputId": "ddeeaa8c-ccc5-4a8f-d046-6d9f8f885a9e"
      },
      "execution_count": null,
      "outputs": [
        {
          "output_type": "stream",
          "name": "stdout",
          "text": [
            "[8, 2.3, [-4, 5], 'str']\n"
          ]
        }
      ]
    },
    {
      "cell_type": "code",
      "source": [
        "print(list1[1])"
      ],
      "metadata": {
        "colab": {
          "base_uri": "https://localhost:8080/"
        },
        "id": "DYIvLRJKc8-Z",
        "outputId": "844c5467-bee6-4ee7-d811-a45697ba2fa6"
      },
      "execution_count": null,
      "outputs": [
        {
          "output_type": "stream",
          "name": "stdout",
          "text": [
            "2.3\n"
          ]
        }
      ]
    },
    {
      "cell_type": "code",
      "source": [
        "tuple1=((\"parrot\",\"sparrow\"),(\"lion\",\"tiger\"))\n",
        "print(tuple1)"
      ],
      "metadata": {
        "colab": {
          "base_uri": "https://localhost:8080/"
        },
        "id": "R3vdPAhZdLBE",
        "outputId": "3888d91d-159f-40d2-9172-7e5b1e450584"
      },
      "execution_count": null,
      "outputs": [
        {
          "output_type": "stream",
          "name": "stdout",
          "text": [
            "(('parrot', 'sparrow'), ('lion', 'tiger'))\n"
          ]
        }
      ]
    },
    {
      "cell_type": "code",
      "source": [
        "dict1={\"name\":\"sakshi\",\"age\":20, \"can vote\":\"yes\"}\n",
        "print(dict1)"
      ],
      "metadata": {
        "colab": {
          "base_uri": "https://localhost:8080/"
        },
        "id": "lxljyk1qdVwV",
        "outputId": "31bd1e31-9d33-4b83-ea99-c88fe8357f32"
      },
      "execution_count": null,
      "outputs": [
        {
          "output_type": "stream",
          "name": "stdout",
          "text": [
            "{'name': 'sakshi', 'age': 20, 'can vote': 'yes'}\n"
          ]
        }
      ]
    },
    {
      "cell_type": "code",
      "source": [
        "type(dict1)"
      ],
      "metadata": {
        "colab": {
          "base_uri": "https://localhost:8080/"
        },
        "id": "SngK2LPHdoRU",
        "outputId": "ed35e740-e0b6-45e2-d169-04295fc5dd7b"
      },
      "execution_count": null,
      "outputs": [
        {
          "output_type": "execute_result",
          "data": {
            "text/plain": [
              "dict"
            ]
          },
          "metadata": {},
          "execution_count": 7
        }
      ]
    },
    {
      "cell_type": "code",
      "source": [
        " a=\"1\"\n",
        " b=\"2\"\n",
        " print(a+b)"
      ],
      "metadata": {
        "colab": {
          "base_uri": "https://localhost:8080/"
        },
        "id": "t0D-TXyZeAtV",
        "outputId": "cdffd0ea-3b99-4708-9729-3b9e289d8afc"
      },
      "execution_count": null,
      "outputs": [
        {
          "output_type": "stream",
          "name": "stdout",
          "text": [
            "12\n"
          ]
        }
      ]
    },
    {
      "cell_type": "code",
      "source": [
        "Fruit=\"Mango is a fruit\"\n",
        "print(Fruit[0:len(Fruit):2])"
      ],
      "metadata": {
        "colab": {
          "base_uri": "https://localhost:8080/"
        },
        "id": "cMxDqyPP_1ZG",
        "outputId": "d4327a3e-fb69-4abe-c409-0c400aa06598"
      },
      "execution_count": null,
      "outputs": [
        {
          "output_type": "stream",
          "name": "stdout",
          "text": [
            "Mnoi  ri\n"
          ]
        }
      ]
    },
    {
      "cell_type": "code",
      "source": [
        "Fruit=\"malayalam\"\n",
        "if(Fruit[::-1]==Fruit):\n",
        "    print(\"Palindrome\")\n",
        "else:\n",
        "    print(\"Not Palindrome\")"
      ],
      "metadata": {
        "colab": {
          "base_uri": "https://localhost:8080/"
        },
        "id": "gcq_qu47Dq3d",
        "outputId": "41239802-a31f-4dce-a5b6-06fbb96b4237"
      },
      "execution_count": null,
      "outputs": [
        {
          "output_type": "stream",
          "name": "stdout",
          "text": [
            "Palindrome\n"
          ]
        }
      ]
    },
    {
      "cell_type": "code",
      "source": [
        "print(Fruit.upper())"
      ],
      "metadata": {
        "colab": {
          "base_uri": "https://localhost:8080/"
        },
        "id": "B6eVGE_tGXlJ",
        "outputId": "5aa3687d-b9c1-41da-df32-cb2053cba347"
      },
      "execution_count": null,
      "outputs": [
        {
          "output_type": "stream",
          "name": "stdout",
          "text": [
            "MALAYALAM\n"
          ]
        }
      ]
    },
    {
      "cell_type": "code",
      "source": [
        "print(Fruit.lower())"
      ],
      "metadata": {
        "colab": {
          "base_uri": "https://localhost:8080/"
        },
        "id": "29-Os12XSm6b",
        "outputId": "4905d392-f3af-4012-d3b8-116dc73e1966"
      },
      "execution_count": null,
      "outputs": [
        {
          "output_type": "stream",
          "name": "stdout",
          "text": [
            "malayalam\n"
          ]
        }
      ]
    },
    {
      "cell_type": "code",
      "source": [
        "print(Fruit.capitalize())"
      ],
      "metadata": {
        "colab": {
          "base_uri": "https://localhost:8080/"
        },
        "id": "MEGb9U4BSrsa",
        "outputId": "88c91c48-1b9d-4832-c395-5cf60090f0d4"
      },
      "execution_count": null,
      "outputs": [
        {
          "output_type": "stream",
          "name": "stdout",
          "text": [
            "Malayalam\n"
          ]
        }
      ]
    },
    {
      "cell_type": "code",
      "source": [
        "print(Fruit)"
      ],
      "metadata": {
        "colab": {
          "base_uri": "https://localhost:8080/"
        },
        "id": "ZHTQK3LkSwVu",
        "outputId": "bc5e1d65-e5f1-4fd8-f9b5-910f7d539c7d"
      },
      "execution_count": null,
      "outputs": [
        {
          "output_type": "stream",
          "name": "stdout",
          "text": [
            "malayalam\n"
          ]
        }
      ]
    },
    {
      "cell_type": "code",
      "source": [
        "lan=\"!!!!!!! malayalam is !!!!! a language !!!!!!!!!!\""
      ],
      "metadata": {
        "id": "7ck2rDD2Ubn1"
      },
      "execution_count": null,
      "outputs": []
    },
    {
      "cell_type": "code",
      "source": [
        "l= \"i am loving programming\"\n",
        "l.find('ing',0,len(l))"
      ],
      "metadata": {
        "colab": {
          "base_uri": "https://localhost:8080/"
        },
        "id": "TG21_C2kyvUD",
        "outputId": "fbd07ba7-1098-4798-fbcd-6aefab7fca66"
      },
      "execution_count": null,
      "outputs": [
        {
          "output_type": "execute_result",
          "data": {
            "text/plain": [
              "8"
            ]
          },
          "metadata": {},
          "execution_count": 9
        }
      ]
    },
    {
      "cell_type": "code",
      "source": [
        "print(lan.rstrip('!'))\n",
        "print(lan.lstrip('!'))\n",
        "print(lan.strip('!'))"
      ],
      "metadata": {
        "colab": {
          "base_uri": "https://localhost:8080/"
        },
        "id": "79o8bKxDTFee",
        "outputId": "1eb38f21-85ae-4963-86d9-a998d20e8d3f"
      },
      "execution_count": null,
      "outputs": [
        {
          "output_type": "stream",
          "name": "stdout",
          "text": [
            "!!!!!!! malayalam is a language \n",
            " malayalam is a language !!!!!!!!!!\n",
            " malayalam is a language \n"
          ]
        }
      ]
    },
    {
      "cell_type": "code",
      "source": [
        "print(lan.upper().strip('! ').split(\" \"))"
      ],
      "metadata": {
        "colab": {
          "base_uri": "https://localhost:8080/"
        },
        "id": "dvLXr0O9Tiba",
        "outputId": "5df0a3fb-e028-40a2-f83b-14ae3a91e1da"
      },
      "execution_count": null,
      "outputs": [
        {
          "output_type": "stream",
          "name": "stdout",
          "text": [
            "['MALAYALAM', 'IS', '!!!!!', 'A', 'LANGUAGE']\n"
          ]
        }
      ]
    },
    {
      "cell_type": "code",
      "source": [
        "def dnsfinder(str):\n",
        "  dns=str.strip('@').split(\"@\")\n",
        "  return dns[-1]"
      ],
      "metadata": {
        "id": "MRltWP7x-UuU"
      },
      "execution_count": null,
      "outputs": []
    },
    {
      "cell_type": "code",
      "source": [
        "dnsfinder(\"a@@@b@@@c@@@gmail.com@@@@\")"
      ],
      "metadata": {
        "colab": {
          "base_uri": "https://localhost:8080/",
          "height": 35
        },
        "id": "OLk0wqI9Abzg",
        "outputId": "58c73bf2-a727-4c26-cdde-9b20e53b0f07"
      },
      "execution_count": null,
      "outputs": [
        {
          "output_type": "execute_result",
          "data": {
            "text/plain": [
              "'gmail.com'"
            ],
            "application/vnd.google.colaboratory.intrinsic+json": {
              "type": "string"
            }
          },
          "metadata": {},
          "execution_count": 36
        }
      ]
    },
    {
      "cell_type": "code",
      "source": [
        "print(lan.capitalize())"
      ],
      "metadata": {
        "colab": {
          "base_uri": "https://localhost:8080/"
        },
        "id": "6gecXrAVVVq3",
        "outputId": "b2b253c9-b1db-441f-a0ee-452767a493cc"
      },
      "execution_count": null,
      "outputs": [
        {
          "output_type": "stream",
          "name": "stdout",
          "text": [
            "!!!!!!! malayalam is a language !!!!!!!!!!\n"
          ]
        }
      ]
    },
    {
      "cell_type": "code",
      "source": [
        "print(lan.replace('malayalam','english'))"
      ],
      "metadata": {
        "colab": {
          "base_uri": "https://localhost:8080/"
        },
        "id": "xX6mqpbNVtEh",
        "outputId": "4b1fb757-5196-4ae0-8e1a-0c6a2d70bc9c"
      },
      "execution_count": null,
      "outputs": [
        {
          "output_type": "stream",
          "name": "stdout",
          "text": [
            "!!!!!!! english is a language !!!!!!!!!!\n"
          ]
        }
      ]
    },
    {
      "cell_type": "code",
      "source": [
        "print(lan.find('ay'))\n",
        "print(lan.find('a',12,20))\n",
        "print(lan.rfind('a',12,28))\n",
        "print(lan.index('a'))\n",
        "print(lan.index('a',12,28))\n",
        "print(lan.rindex('a',12,28))\n",
        "#help(str.find)"
      ],
      "metadata": {
        "colab": {
          "base_uri": "https://localhost:8080/"
        },
        "id": "q2jOMc1MVxvQ",
        "outputId": "4f21a088-8324-4d08-9e22-fe377c23ec69"
      },
      "execution_count": null,
      "outputs": [
        {
          "output_type": "stream",
          "name": "stdout",
          "text": [
            "11\n",
            "13\n",
            "24\n",
            "9\n",
            "13\n",
            "24\n"
          ]
        }
      ]
    },
    {
      "cell_type": "code",
      "source": [
        "print(lan.count('a'))"
      ],
      "metadata": {
        "colab": {
          "base_uri": "https://localhost:8080/"
        },
        "id": "nm4NEpLtV9Z7",
        "outputId": "119d3908-23b2-4d84-859e-040de85f65e6"
      },
      "execution_count": null,
      "outputs": [
        {
          "output_type": "stream",
          "name": "stdout",
          "text": [
            "7\n"
          ]
        }
      ]
    },
    {
      "cell_type": "code",
      "source": [
        "import time\n",
        "timestamp= int(time.strftime('%H'))\n",
        "print(timestamp)\n",
        "if(timestamp>4 and timestamp<12):\n",
        "    print(\"Good Morning\")\n",
        "elif(timestamp>12 and timestamp<17):\n",
        "    print(\"Good Afternoon\")\n",
        "else:\n",
        "    print(\"Good Evening\")"
      ],
      "metadata": {
        "colab": {
          "base_uri": "https://localhost:8080/"
        },
        "id": "gjB_PeYmUpKp",
        "outputId": "87fabb8b-7359-4296-bbb0-84a10ae9dc8f"
      },
      "execution_count": null,
      "outputs": [
        {
          "output_type": "stream",
          "name": "stdout",
          "text": [
            "16\n",
            "Good Afternoon\n"
          ]
        }
      ]
    },
    {
      "cell_type": "code",
      "source": [
        "x=int(input(\"Enter a number \"))\n",
        "match x:\n",
        "    case 1:\n",
        "        print(\"one\")\n",
        "    case 2:\n",
        "        print(\"two\")\n",
        "    case _ if x>2 and x<=10:\n",
        "        print(\"something else\")\n",
        "    case _ if x>10:\n",
        "        print(\"something else greater than 10\")"
      ],
      "metadata": {
        "colab": {
          "base_uri": "https://localhost:8080/"
        },
        "id": "ULD3ghzuXruj",
        "outputId": "36f1ae17-ec25-40e7-bbef-dbcda07d9e42"
      },
      "execution_count": null,
      "outputs": [
        {
          "output_type": "stream",
          "name": "stdout",
          "text": [
            "Enter a number 11\n",
            "something else greater than 10\n"
          ]
        }
      ]
    },
    {
      "cell_type": "code",
      "source": [
        "colours = [\"red\", \"green\", \"blue\",\"yellow\"]\n",
        "for x in colours[1:len(colours)]:\n",
        "  print(x)\n",
        "for i in range(len(colours)):\n",
        "  print(colours[i])"
      ],
      "metadata": {
        "colab": {
          "base_uri": "https://localhost:8080/"
        },
        "id": "gOBGX0aZZkEU",
        "outputId": "548f0e81-60f4-4d19-bf4e-09a477f3df52"
      },
      "execution_count": null,
      "outputs": [
        {
          "output_type": "stream",
          "name": "stdout",
          "text": [
            "green\n",
            "blue\n",
            "yellow\n",
            "red\n",
            "green\n",
            "blue\n",
            "yellow\n"
          ]
        }
      ]
    },
    {
      "cell_type": "code",
      "source": [
        "c=5\n",
        "while(c>0):\n",
        "    print(c)\n",
        "    c-=1\n",
        "else:\n",
        "    print(\"End of while loop\")"
      ],
      "metadata": {
        "colab": {
          "base_uri": "https://localhost:8080/"
        },
        "id": "1GtSTfMKU2gd",
        "outputId": "91631edc-d8b1-42ef-b146-6064e988a906"
      },
      "execution_count": null,
      "outputs": [
        {
          "output_type": "stream",
          "name": "stdout",
          "text": [
            "5\n",
            "4\n",
            "3\n",
            "2\n",
            "1\n",
            "End of while loop\n"
          ]
        }
      ]
    },
    {
      "cell_type": "code",
      "source": [
        "def m(a=0,b=0):\n",
        "    return a+b\n",
        "print(m(5,6))"
      ],
      "metadata": {
        "colab": {
          "base_uri": "https://localhost:8080/"
        },
        "id": "ctf19jOmfWTl",
        "outputId": "c19ac306-2585-4c3f-b1a9-8e29be5cd542"
      },
      "execution_count": null,
      "outputs": [
        {
          "output_type": "stream",
          "name": "stdout",
          "text": [
            "11\n"
          ]
        }
      ]
    },
    {
      "cell_type": "code",
      "source": [
        "def gr(a=0,b=0):\n",
        "    if(a>b):\n",
        "        return a\n",
        "    else:\n",
        "        return b\n",
        "print(gr(10,5))"
      ],
      "metadata": {
        "colab": {
          "base_uri": "https://localhost:8080/"
        },
        "id": "M_y3hOjvpzX8",
        "outputId": "342eaaca-9e46-4901-f473-953860ebc9ab"
      },
      "execution_count": null,
      "outputs": [
        {
          "output_type": "stream",
          "name": "stdout",
          "text": [
            "10\n"
          ]
        }
      ]
    },
    {
      "cell_type": "code",
      "source": [
        "5436//1000\n"
      ],
      "metadata": {
        "colab": {
          "base_uri": "https://localhost:8080/"
        },
        "id": "KVC-dM48qlN3",
        "outputId": "e23b4a47-5c93-4b45-9c4c-804630c36f27"
      },
      "execution_count": null,
      "outputs": [
        {
          "output_type": "execute_result",
          "data": {
            "text/plain": [
              "5"
            ]
          },
          "metadata": {},
          "execution_count": 12
        }
      ]
    },
    {
      "cell_type": "code",
      "source": [
        "l=[3,5,6]\n",
        "print(l)"
      ],
      "metadata": {
        "colab": {
          "base_uri": "https://localhost:8080/"
        },
        "id": "A3W_gcF1YGMW",
        "outputId": "2a9e1963-7893-4335-952d-b31618b2dae3"
      },
      "execution_count": null,
      "outputs": [
        {
          "output_type": "stream",
          "name": "stdout",
          "text": [
            "[3, 5, 6]\n"
          ]
        }
      ]
    },
    {
      "cell_type": "code",
      "source": [
        "print(l[-1:-3:-1])"
      ],
      "metadata": {
        "colab": {
          "base_uri": "https://localhost:8080/"
        },
        "id": "pH68A2Smb6l-",
        "outputId": "78492d48-cecd-4e1e-d61d-17e755b91afb"
      },
      "execution_count": null,
      "outputs": [
        {
          "output_type": "stream",
          "name": "stdout",
          "text": [
            "[6, 5]\n"
          ]
        }
      ]
    },
    {
      "cell_type": "code",
      "source": [
        "lc=[i*i for i in range(20) if i%2==0]\n",
        "print(lc)"
      ],
      "metadata": {
        "colab": {
          "base_uri": "https://localhost:8080/"
        },
        "id": "OCGf_JF9dAwP",
        "outputId": "7bfd6c44-fc9d-4cd5-9f09-4a5a978fba84"
      },
      "execution_count": null,
      "outputs": [
        {
          "output_type": "stream",
          "name": "stdout",
          "text": [
            "[0, 4, 16, 36, 64, 100, 144, 196, 256, 324]\n"
          ]
        }
      ]
    },
    {
      "cell_type": "code",
      "source": [
        "t=(1,5,6)\n",
        "print(t)"
      ],
      "metadata": {
        "id": "01C0QBTqdZkK"
      },
      "execution_count": null,
      "outputs": []
    },
    {
      "cell_type": "code",
      "source": [
        "q=[\"q1\",\"q2\",\"q3\",\"q4\",\"q5\"]\n",
        "a=0\n",
        "x=0\n",
        "c=0\n",
        "for i in range(1,len(q)+1):\n",
        "  match i:\n",
        "    case 1:\n",
        "      print(\"question 1 with options\")\n",
        "      a=int(input(\"Enter your answer \"))\n",
        "      if a==2:\n",
        "        c=1000\n",
        "      else:\n",
        "        c=0\n",
        "        print(\"you lost\")\n",
        "        break\n",
        "    case 2:\n",
        "      print(\"do you wanna continue orelse exit with \",c,'\"\\nEnter 1 to continue or 0 to exit')\n",
        "      x=int(input(\"do you wanna continue orelse exit\"))\n",
        "      if x==1:\n",
        "        print(\"question 2 with options\")\n",
        "        a=int(input(\"Enter your answer \"))\n",
        "        if a==1:\n",
        "          c=c+10000\n",
        "        else:\n",
        "          c=0\n",
        "          print(\"you lost \")\n",
        "          break\n",
        "      else:\n",
        "        print(\"you won \",c)\n",
        "        break\n",
        "    case 3:\n",
        "      print(\"do you wanna continue orelse exit with \",c,'\"\\nEnter 1 to continue or 0 to exit')\n",
        "      x=int(input())\n",
        "      if x==1:\n",
        "        print(\"question 3 with options\")\n",
        "        a=int(input(\"Enter your answer \"))\n",
        "        if a==1:\n",
        "          c=c+100000\n",
        "        else:\n",
        "          c=0\n",
        "          print(\"you lost \")\n",
        "          break\n",
        "      else:\n",
        "        print(\"you won \",c)\n",
        "        break\n",
        "\n",
        "    case 4:\n",
        "      print(\"do you wanna continue orelse exit with \",c,'\"\\nEnter 1 to continue or 0 to exit')\n",
        "      x=int(input())\n",
        "      if x==1:\n",
        "        print(\"question 4 with options\")\n",
        "        a=int(input(\"Enter your answer \"))\n",
        "        if a==1:\n",
        "          c=c+100000\n",
        "        else:\n",
        "          c=0\n",
        "          print(\"you lost \")\n",
        "          break\n",
        "      else:\n",
        "        print(\"you won \",c)\n",
        "        break\n",
        "    case 5:\n",
        "      print(\"do you wanna continue orelse exit with \",c,'\"\\nEnter 1 to continue or 0 to exit')\n",
        "      x=int(input())\n",
        "      if x==1:\n",
        "        print(\"question 5 with options\")\n",
        "        a=int(input(\"Enter your answer \"))\n",
        "        if a==1:\n",
        "          c=c+100000\n",
        "        else:\n",
        "          c=0\n",
        "          print(\"you lost \")\n",
        "          break\n",
        "      else:\n",
        "        print(\"you won \",c)\n",
        "        break\n",
        "\n",
        "\n"
      ],
      "metadata": {
        "colab": {
          "base_uri": "https://localhost:8080/"
        },
        "id": "0AbqWIIHivUz",
        "outputId": "f3c92537-fe35-4eec-c22e-e747c6688524"
      },
      "execution_count": null,
      "outputs": [
        {
          "name": "stdout",
          "output_type": "stream",
          "text": [
            "question 1 with options\n",
            "Enter your answer 2\n",
            "do you wanna continue orelse exit with  1000 \"\n",
            "Enter 1 to continue or 0 to exit\n",
            "do you wanna continue orelse exit1\n",
            "question 2 with options\n",
            "Enter your answer 1\n",
            "do you wanna continue orelse exit with  11000 \"\n",
            "Enter 1 to continue or 0 to exit\n",
            "1\n",
            "question 3 with options\n",
            "Enter your answer 1\n",
            "do you wanna continue orelse exit with  111000 \"\n",
            "Enter 1 to continue or 0 to exit\n",
            "1\n",
            "question 4 with options\n",
            "Enter your answer 1\n",
            "do you wanna continue orelse exit with  211000 \"\n",
            "Enter 1 to continue or 0 to exit\n",
            "1\n",
            "question 5 with options\n",
            "Enter your answer 1\n"
          ]
        }
      ]
    },
    {
      "cell_type": "code",
      "source": [
        "l=\"Hey my name is {} and I am from {}\"\n",
        "name=\"sai kiran\"\n",
        "country=\"India\"\n",
        "print(l.format(name,country))"
      ],
      "metadata": {
        "colab": {
          "base_uri": "https://localhost:8080/"
        },
        "id": "kPSmqWAfVjIy",
        "outputId": "05eda98f-7219-4d38-a9a7-59c5af11d176"
      },
      "execution_count": null,
      "outputs": [
        {
          "output_type": "stream",
          "name": "stdout",
          "text": [
            "Hey my name is sai kiran and I am from India\n"
          ]
        }
      ]
    },
    {
      "cell_type": "code",
      "source": [
        "print(f\"Hey my name is {name} and I am from {country}\")"
      ],
      "metadata": {
        "colab": {
          "base_uri": "https://localhost:8080/"
        },
        "id": "K2oiQj_0XozX",
        "outputId": "d04baefa-94c8-46b2-9cfe-bddf0e3d4856"
      },
      "execution_count": null,
      "outputs": [
        {
          "output_type": "stream",
          "name": "stdout",
          "text": [
            "Hey my name is sai kiran and I am from India\n"
          ]
        }
      ]
    },
    {
      "cell_type": "code",
      "source": [
        "def squ(n):\n",
        "  '''Takes in a number n, returns the suare of n'''\n",
        "  return n*n\n",
        "\n",
        "print(squ(5))\n",
        "print(squ.__doc__)"
      ],
      "metadata": {
        "colab": {
          "base_uri": "https://localhost:8080/"
        },
        "id": "x_fo6c89X0a4",
        "outputId": "1007c9b8-2ca6-4df4-bd63-1578d77e1385"
      },
      "execution_count": null,
      "outputs": [
        {
          "output_type": "stream",
          "name": "stdout",
          "text": [
            "25\n",
            "Takes in a number n, returns the suare of n\n"
          ]
        }
      ]
    },
    {
      "cell_type": "code",
      "source": [
        "def factorial(n):\n",
        "    if n == 0:\n",
        "        return 1\n",
        "    else:\n",
        "        return n * factorial(n-1)"
      ],
      "metadata": {
        "id": "MMUVoM1-cpfp"
      },
      "execution_count": null,
      "outputs": []
    },
    {
      "cell_type": "code",
      "source": [
        "def fib(n):\n",
        "    if(n==0):\n",
        "        return 0\n",
        "    elif(n==1):\n",
        "        return 1\n",
        "    else:\n",
        "        return fib(n-1)+fib(n-2)\n"
      ],
      "metadata": {
        "id": "alMXsuRNeh4F"
      },
      "execution_count": null,
      "outputs": []
    },
    {
      "cell_type": "code",
      "source": [
        "fib(7)"
      ],
      "metadata": {
        "colab": {
          "base_uri": "https://localhost:8080/"
        },
        "id": "nOx6PjPMfgnk",
        "outputId": "5b2f6ee0-e729-49b5-d258-69db45739112"
      },
      "execution_count": null,
      "outputs": [
        {
          "output_type": "execute_result",
          "data": {
            "text/plain": [
              "13"
            ]
          },
          "metadata": {},
          "execution_count": 26
        }
      ]
    },
    {
      "cell_type": "code",
      "source": [
        "y=[\"(\",\"{\",\"[\"]\n",
        "x=[\")\",\"}\",\"]\"]\n",
        "s='([{}])'\n",
        "i=(len(s)//2)\n",
        "print(i)\n",
        "if y[0] in s:\n",
        "  j=s.index(y[0])\n",
        "  print(j)\n",
        "  if x[0]== s[i]:\n",
        "\n",
        "\n"
      ],
      "metadata": {
        "colab": {
          "base_uri": "https://localhost:8080/"
        },
        "id": "BmOFmVWkfs5S",
        "outputId": "2894aa81-0d2a-459e-953f-a2939e891b43"
      },
      "execution_count": null,
      "outputs": [
        {
          "output_type": "stream",
          "name": "stdout",
          "text": [
            "3\n",
            "0\n",
            "balanced\n"
          ]
        }
      ]
    },
    {
      "cell_type": "code",
      "source": [
        "harry={}\n",
        "print(type(harry))"
      ],
      "metadata": {
        "colab": {
          "base_uri": "https://localhost:8080/"
        },
        "id": "gTbgd0_ZPmzA",
        "outputId": "1782b8f5-12e0-43b8-c3b0-03999791545b"
      },
      "execution_count": null,
      "outputs": [
        {
          "output_type": "stream",
          "name": "stdout",
          "text": [
            "<class 'dict'>\n"
          ]
        }
      ]
    },
    {
      "cell_type": "code",
      "source": [
        "y=[\"(\",\"{\",\"[\"]\n",
        "x=[\")\",\"}\",\"]\"]\n",
        "s='()[]{}'\n",
        "a=[True,True,True]\n",
        "i=(len(s)//2)\n",
        "#print(i)\n",
        "if y[0] in s:\n",
        "  j=s.index(y[0])-i\n",
        "  #print(j)\n",
        "  if x[0]== s[i-j-1]:\n",
        "    a[0]=True\n",
        "  else:\n",
        "    a[0]=False\n",
        "if y[1] in s:\n",
        "  j=s.index(y[1])-i\n",
        "  #print(j)\n",
        "  if x[1]== s[i-j-1]:\n",
        "    a[1]=True\n",
        "  else:\n",
        "    a[1]=False\n",
        "if y[2] in s:\n",
        "  j=s.index(y[2])-i\n",
        "  #print(j)\n",
        "  if x[2]== s[i-j-1]:\n",
        "    a[2]=True\n",
        "  else:\n",
        "    a[2]=False\n",
        "if a[0]==True and a[1]==True and a[2]==True:\n",
        "  print(\"True\")\n",
        "else:\n",
        "  print(\"False\")"
      ],
      "metadata": {
        "id": "Yxn08zAxQ2zo",
        "colab": {
          "base_uri": "https://localhost:8080/"
        },
        "outputId": "783c73e5-7c31-42eb-af26-b13b4d43ed6b"
      },
      "execution_count": null,
      "outputs": [
        {
          "output_type": "stream",
          "name": "stdout",
          "text": [
            "False\n"
          ]
        }
      ]
    },
    {
      "cell_type": "code",
      "source": [
        "def multitable(a):\n",
        "  '''Takes in a number n, returns the multiplication table of n'''\n",
        "  try:\n",
        "    print(f\"Multiplication table of {a} is: \")\n",
        "    for i in range(1,11):\n",
        "      print(f\"{int(a)} x {i} = {int(a)*i}\")\n",
        "    print(\"End of Multiplication\")\n",
        "  except Exception as e:\n",
        "    print(f\"Invalid input {a}, the error : {e}\")\n",
        "  finally:\n",
        "    print(\"End of function\")\n",
        "\n"
      ],
      "metadata": {
        "id": "zHDoeeeXiw7p"
      },
      "execution_count": null,
      "outputs": []
    },
    {
      "cell_type": "code",
      "source": [
        "multitable.__doc__"
      ],
      "metadata": {
        "colab": {
          "base_uri": "https://localhost:8080/",
          "height": 35
        },
        "id": "TFCeYFsoStK4",
        "outputId": "e531f167-7917-454e-f899-2573de2a39f5"
      },
      "execution_count": null,
      "outputs": [
        {
          "output_type": "execute_result",
          "data": {
            "text/plain": [
              "'Takes in a number n, returns the multiplication table of n'"
            ],
            "application/vnd.google.colaboratory.intrinsic+json": {
              "type": "string"
            }
          },
          "metadata": {},
          "execution_count": 22
        }
      ]
    },
    {
      "cell_type": "code",
      "source": [
        "multitable(5)"
      ],
      "metadata": {
        "colab": {
          "base_uri": "https://localhost:8080/"
        },
        "id": "wgOZJt-3iqE4",
        "outputId": "5d422447-2308-46af-e51f-21548b14b5b0"
      },
      "execution_count": null,
      "outputs": [
        {
          "output_type": "stream",
          "name": "stdout",
          "text": [
            "Multiplication table of 5 is: \n",
            "5 x 1 = 5\n",
            "5 x 2 = 10\n",
            "5 x 3 = 15\n",
            "5 x 4 = 20\n",
            "5 x 5 = 25\n",
            "5 x 6 = 30\n",
            "5 x 7 = 35\n",
            "5 x 8 = 40\n",
            "5 x 9 = 45\n",
            "5 x 10 = 50\n",
            "End of Multiplication\n",
            "End of function\n"
          ]
        }
      ]
    },
    {
      "cell_type": "code",
      "source": [
        "multitable(\"a\")"
      ],
      "metadata": {
        "colab": {
          "base_uri": "https://localhost:8080/"
        },
        "id": "aLBzC9Fuisca",
        "outputId": "20201112-1b55-4117-d431-59dc1428be14"
      },
      "execution_count": null,
      "outputs": [
        {
          "output_type": "stream",
          "name": "stdout",
          "text": [
            "Multiplication table of a is: \n",
            "Invalid input a, the error : invalid literal for int() with base 10: 'a'\n",
            "End of function\n"
          ]
        }
      ]
    },
    {
      "cell_type": "code",
      "source": [
        "a=int(input(\"Enter a value between 5 and 10 \"))\n",
        "while(a<5 or a>10):\n",
        "  raise ValueError(\"Invalid input\")"
      ],
      "metadata": {
        "colab": {
          "base_uri": "https://localhost:8080/"
        },
        "id": "VCppjDcIjdSY",
        "outputId": "7839203a-3766-431f-bd32-26cb935ffbf7"
      },
      "execution_count": null,
      "outputs": [
        {
          "name": "stdout",
          "output_type": "stream",
          "text": [
            "Enter a value between 5 and 10 8\n"
          ]
        }
      ]
    },
    {
      "cell_type": "code",
      "source": [
        "str=input(\"Enter a string \")\n",
        "str=str+str[0]\n",
        "l=list(str)\n",
        "l.pop(0)\n",
        "\n",
        "print(l)"
      ],
      "metadata": {
        "colab": {
          "base_uri": "https://localhost:8080/"
        },
        "id": "Jdn9HHzZCrAb",
        "outputId": "cd957784-5269-4252-bc78-0c46b92628b7"
      },
      "execution_count": null,
      "outputs": [
        {
          "output_type": "stream",
          "name": "stdout",
          "text": [
            "Enter a string Harry is good\n",
            "['a', 'r', 'r', 'y', ' ', 'i', 's', ' ', 'g', 'o', 'o', 'd', 'H']\n"
          ]
        }
      ]
    },
    {
      "cell_type": "code",
      "source": [
        "l=[1,2,3,[\"Harry\",\"is\",\"Good\"],[4,5,6]]\n",
        "for i, m in enumerate(l):\n",
        "  print(i,m)"
      ],
      "metadata": {
        "id": "qFF5XxwD-gNU",
        "colab": {
          "base_uri": "https://localhost:8080/"
        },
        "outputId": "1de51a65-2665-463c-a6ba-8da29679454c"
      },
      "execution_count": null,
      "outputs": [
        {
          "output_type": "stream",
          "name": "stdout",
          "text": [
            "0 1\n",
            "1 2\n",
            "2 3\n",
            "3 ['Harry', 'is', 'Good']\n",
            "4 [4, 5, 6]\n"
          ]
        }
      ]
    },
    {
      "cell_type": "code",
      "source": [
        "\n",
        "haystack =\"hello\"\n",
        "needle =\"ll\"\n",
        "x=haystack.split(needle)\n",
        "print(x)\n",
        "for y in range(len(x)):\n",
        "    if x[y]==\"\":\n",
        "      print(y)\n",
        "else:\n",
        "    print(-1)"
      ],
      "metadata": {
        "colab": {
          "base_uri": "https://localhost:8080/"
        },
        "id": "Z1bufyzCO8_9",
        "outputId": "cf239d27-ebb5-4c21-cc40-1c7241023735"
      },
      "execution_count": null,
      "outputs": [
        {
          "output_type": "stream",
          "name": "stdout",
          "text": [
            "['he', 'o']\n",
            "-1\n"
          ]
        }
      ]
    },
    {
      "cell_type": "code",
      "source": [
        "digits = [1,2,3]\n",
        "s=str(digits)\n",
        "print(s)"
      ],
      "metadata": {
        "colab": {
          "base_uri": "https://localhost:8080/"
        },
        "id": "fMtL-hkwRjlP",
        "outputId": "57d930c5-3a93-4fc4-8eb4-3c38db0aeece"
      },
      "execution_count": null,
      "outputs": [
        {
          "output_type": "stream",
          "name": "stdout",
          "text": [
            "[1, 2, 3]\n"
          ]
        }
      ]
    },
    {
      "cell_type": "markdown",
      "source": [
        "OS MODULE - Day 46"
      ],
      "metadata": {
        "id": "oEYKHqlU2bc8"
      }
    },
    {
      "cell_type": "markdown",
      "source": [
        "File Handling"
      ],
      "metadata": {
        "id": "QHbySsgi6LLt"
      }
    },
    {
      "cell_type": "code",
      "source": [
        "f=open(\"Mytext.txt\",\"w\")\n",
        "f.write(\"Hi I am sai kiran\")\n",
        "f.close()\n",
        "f=open(\"Mytext.txt\",\"r\")\n",
        "print(f.read())"
      ],
      "metadata": {
        "colab": {
          "base_uri": "https://localhost:8080/"
        },
        "id": "kFU1C1Qo2OrG",
        "outputId": "13fce6fa-1db2-48b8-8400-51744eacf099"
      },
      "execution_count": null,
      "outputs": [
        {
          "output_type": "stream",
          "name": "stdout",
          "text": [
            "Hi I am sai kiran\n"
          ]
        }
      ]
    },
    {
      "cell_type": "code",
      "source": [
        "with open(\"Mytext.txt\",\"a\") as f:\n",
        "  f.write(\"Hi I am sai kiran\")\n",
        "f=open(\"Mytext.txt\",\"r\")\n",
        "print(f.read())\n",
        "f.close()"
      ],
      "metadata": {
        "colab": {
          "base_uri": "https://localhost:8080/"
        },
        "id": "TQBp3zHN6GwP",
        "outputId": "ec391317-92f5-4fdf-d9b8-4a5d7fc7b77a"
      },
      "execution_count": null,
      "outputs": [
        {
          "output_type": "stream",
          "name": "stdout",
          "text": [
            "Hi I am sai kiranHi I am sai kiranHi I am sai kiranHi I am sai kiranHi I am sai kiran\n"
          ]
        }
      ]
    },
    {
      "cell_type": "code",
      "source": [
        "with open(\"Mytext.txt\",\"w\") as f:\n",
        "  f.write(\"56,78,90 \\n67,78,93 \\n94,85,94 \\n\")\n",
        "f=open(\"Mytext.txt\",\"r\")\n",
        "i=0\n",
        "while True:\n",
        "  i=i+1\n",
        "  line=f.readline()\n",
        "  if not line:\n",
        "    break\n",
        "  m1=int(line.split(\",\")[0])\n",
        "  m2=int(line.split(\",\")[1])\n",
        "  m3=int(line.split(\",\")[2])\n",
        "  print(f\"Percentage of student {i} are {m1/95*100:2f},{m2/95*100:2f},{m3/95*100:2f}\")\n",
        "f.close()"
      ],
      "metadata": {
        "colab": {
          "base_uri": "https://localhost:8080/"
        },
        "id": "nARzbao9kDAm",
        "outputId": "cd228b7f-03fd-4c81-ad28-b33c946cdc33"
      },
      "execution_count": null,
      "outputs": [
        {
          "output_type": "stream",
          "name": "stdout",
          "text": [
            "Percentage of student 1 are 58.947368,82.105263,94.736842\n",
            "Percentage of student 2 are 70.526316,82.105263,97.894737\n",
            "Percentage of student 3 are 98.947368,89.473684,98.947368\n"
          ]
        }
      ]
    },
    {
      "cell_type": "code",
      "source": [
        "with open(\"Mytext.txt\",\"r\") as f:\n",
        "  f.seek(10)\n",
        "  data=f.read(10)\n",
        "  print(f.tell())\n",
        "  print(data)"
      ],
      "metadata": {
        "colab": {
          "base_uri": "https://localhost:8080/"
        },
        "id": "_uyBv0pu3HCM",
        "outputId": "d4495cd1-6ef3-4e55-e48e-818baabe03c8"
      },
      "execution_count": null,
      "outputs": [
        {
          "output_type": "stream",
          "name": "stdout",
          "text": [
            "20\n",
            "67,78,93 \n",
            "\n"
          ]
        }
      ]
    },
    {
      "cell_type": "markdown",
      "source": [
        "Lambda Functions"
      ],
      "metadata": {
        "id": "HwyKFdo96HaD"
      }
    },
    {
      "cell_type": "code",
      "source": [
        "double= lambda x:x*2\n",
        "print(double(5))\n",
        "cube=lambda x:x*x*x\n",
        "print(cube(5))"
      ],
      "metadata": {
        "colab": {
          "base_uri": "https://localhost:8080/"
        },
        "id": "kOENPWls6HA4",
        "outputId": "eb9d2371-80aa-4c3c-dae3-e63c1bb20bab"
      },
      "execution_count": null,
      "outputs": [
        {
          "output_type": "stream",
          "name": "stdout",
          "text": [
            "10\n",
            "125\n"
          ]
        }
      ]
    },
    {
      "cell_type": "code",
      "source": [
        "l=[1,2,3,4,5,6]\n",
        "newl=list(map(lambda x:x*2,l))\n",
        "print(newl)"
      ],
      "metadata": {
        "colab": {
          "base_uri": "https://localhost:8080/"
        },
        "id": "E2djZceGH3x2",
        "outputId": "80f5803a-a075-4a42-a430-d320d807237f"
      },
      "execution_count": null,
      "outputs": [
        {
          "output_type": "stream",
          "name": "stdout",
          "text": [
            "[2, 4, 6, 8, 10, 12]\n"
          ]
        }
      ]
    },
    {
      "cell_type": "code",
      "source": [
        "def filter_func(a):\n",
        "  if a%2==0:\n",
        "    return a\n",
        "l=[1,2,3,4,5,6,7,8,9,10]\n",
        "newl=list(filter(lambda x: x%2==0,l))\n",
        "print(newl)"
      ],
      "metadata": {
        "colab": {
          "base_uri": "https://localhost:8080/"
        },
        "id": "sQ5oLnARJuoq",
        "outputId": "a44ba9c5-474b-41cb-fa02-73954b1fd5b8"
      },
      "execution_count": null,
      "outputs": [
        {
          "output_type": "stream",
          "name": "stdout",
          "text": [
            "[2, 4, 6, 8, 10]\n"
          ]
        }
      ]
    },
    {
      "cell_type": "code",
      "source": [
        "from functools import reduce\n",
        "l=[1,2,3,4,5,6]\n",
        "newl=reduce(lambda x,y:x+y,l)\n",
        "print(newl)"
      ],
      "metadata": {
        "colab": {
          "base_uri": "https://localhost:8080/"
        },
        "id": "XxuXAI44ON-y",
        "outputId": "2632ef8d-8b0b-46fa-e458-a2e3fe6a6c08"
      },
      "execution_count": null,
      "outputs": [
        {
          "output_type": "stream",
          "name": "stdout",
          "text": [
            "21\n"
          ]
        }
      ]
    },
    {
      "cell_type": "markdown",
      "source": [
        "ROCK PAPER SCISSOR"
      ],
      "metadata": {
        "id": "_CLJBleG87fq"
      }
    },
    {
      "cell_type": "code",
      "source": [
        "import random\n",
        "o=[\"rock\",\"paper\",\"scissor\"]\n",
        "c=random.choice(o)\n",
        "P=str(input(\"Enter your choice \"))\n",
        "if P==c:\n",
        "  print(\"Draw\")\n",
        "elif o.index(c)==2:\n",
        "  if o.index(P)==0:\n",
        "    print(\"You won\")\n",
        "  else:\n",
        "    print(\"You lost\")\n",
        "elif o.index(c)==0:\n",
        "  if o.index(P)==1:\n",
        "    print(\"You won\")\n",
        "  else:\n",
        "    print(\"You lost\")\n",
        "elif o.index(c)==1:\n",
        "  if o.index(P)==2:\n",
        "    print(\"You won\")\n",
        "  else:\n",
        "    print(\"You lost\")\n",
        "print(f\"computer choice was {c}\")"
      ],
      "metadata": {
        "colab": {
          "base_uri": "https://localhost:8080/"
        },
        "id": "yQgSOPym2auB",
        "outputId": "ef51eb4a-7bcc-471d-f5a0-31ec4557f8fd"
      },
      "execution_count": null,
      "outputs": [
        {
          "output_type": "stream",
          "name": "stdout",
          "text": [
            "Enter your choice paper\n",
            "You lost\n",
            "computer choice was scissor\n"
          ]
        }
      ]
    },
    {
      "cell_type": "code",
      "source": [
        "class pe:\n",
        "  name=\"Harry\"\n",
        "  occ=\"developer\"\n",
        "  def info(self):\n",
        "    print(f\"{self.name} is a {self.occ}\")\n",
        "a=pe()\n",
        "a.info()\n"
      ],
      "metadata": {
        "colab": {
          "base_uri": "https://localhost:8080/"
        },
        "id": "JhXPi-XIZQ0L",
        "outputId": "8a8d245e-677d-495b-ae6f-e46eba56e190"
      },
      "execution_count": null,
      "outputs": [
        {
          "output_type": "stream",
          "name": "stdout",
          "text": [
            "Harry is a developer\n"
          ]
        }
      ]
    },
    {
      "cell_type": "code",
      "source": [
        "a=[]\n",
        "with open(\"myobject.txt\",\"w\") as f:\n",
        "  f.write(\"Sudharshan,Software Engineer,2000\\n\")\n",
        "  f.write(\"Sai Kiran,Software Engineer,2000 \\n\")\n",
        "  f.write(\"Ajay,Software Engineer,2000\\n\")\n",
        "f=open(\"myobject.txt\",\"r\")\n",
        "while True:\n",
        "  line=f.readline()\n",
        "  if not line:\n",
        "    break\n",
        "  class person:\n",
        "    name=str(line.split(\",\")[0])\n",
        "    occupation=str(line.split(\",\")[1])\n",
        "    networth=int(line.split(\",\")[2])\n",
        "    def info(self):\n",
        "      print(f\"{self.name} is a {self.occupation} with a networth of {self.networth} Cr\")\n",
        "  a.append(person())\n",
        "# print(a[0].name)\n",
        "# print(a[1].name)\n",
        "# print(a[2].name)\n",
        "f.close()\n",
        "for i in range(len(a)):\n",
        "  print(a[i].name,type(a[i].name))\n",
        "  print(a[i].occupation,type(a[i].occupation))\n",
        "  print(a[i].networth,type(a[i].networth))\n",
        "  a[i].info()"
      ],
      "metadata": {
        "colab": {
          "base_uri": "https://localhost:8080/"
        },
        "id": "-fj1NXpwcmn6",
        "outputId": "e3c799ca-00a0-48f3-a9fd-024820a76b33"
      },
      "execution_count": null,
      "outputs": [
        {
          "output_type": "stream",
          "name": "stdout",
          "text": [
            "Sudharshan <class 'str'>\n",
            "Software Engineer <class 'str'>\n",
            "2000 <class 'int'>\n",
            "Sudharshan is a Software Engineer with a networth of 2000 Cr\n",
            "Sai Kiran <class 'str'>\n",
            "Software Engineer <class 'str'>\n",
            "2000 <class 'int'>\n",
            "Sai Kiran is a Software Engineer with a networth of 2000 Cr\n",
            "Ajay <class 'str'>\n",
            "Software Engineer <class 'str'>\n",
            "2000 <class 'int'>\n",
            "Ajay is a Software Engineer with a networth of 2000 Cr\n"
          ]
        }
      ]
    },
    {
      "cell_type": "markdown",
      "source": [
        "Contructor"
      ],
      "metadata": {
        "id": "29VVT9chY0jJ"
      }
    },
    {
      "cell_type": "code",
      "source": [
        "class office:\n",
        "  def __init__(self,name,occ,networth):\n",
        "    self.name=name\n",
        "    self.occ=occ\n",
        "    self.networth=networth\n",
        "  def info(self):\n",
        "    print(f\"{self.name} is a {self.occ} with a networth of {self.networth} Cr\")\n",
        "a=office(\"Sudharshan\",\"Software Engineer\",2000)\n",
        "a.occ"
      ],
      "metadata": {
        "colab": {
          "base_uri": "https://localhost:8080/",
          "height": 35
        },
        "id": "Kd5_aRI0YpGi",
        "outputId": "8b87cf70-3d6f-4332-e28d-8d674a3afc93"
      },
      "execution_count": null,
      "outputs": [
        {
          "output_type": "execute_result",
          "data": {
            "text/plain": [
              "'Software Engineer'"
            ],
            "application/vnd.google.colaboratory.intrinsic+json": {
              "type": "string"
            }
          },
          "metadata": {},
          "execution_count": 29
        }
      ]
    },
    {
      "cell_type": "markdown",
      "source": [
        "Decorator"
      ],
      "metadata": {
        "id": "3I01x7Y9i_gt"
      }
    },
    {
      "cell_type": "code",
      "source": [
        "def greet(fx):\n",
        "  def mfx(*args,**kwargs):\n",
        "    print(\"Good Morning\")\n",
        "    fx(*args,**kwargs)\n",
        "    print(\"Thanks for using this function\")\n",
        "  return mfx\n",
        "@greet\n",
        "def hello():\n",
        "  print(\"Hello World\")\n",
        "\n",
        "hello()\n",
        "\n",
        "@greet\n",
        "def add(a,b):\n",
        "  print(a+b)\n",
        "\n",
        "add(5,6)\n",
        "\n"
      ],
      "metadata": {
        "colab": {
          "base_uri": "https://localhost:8080/"
        },
        "id": "vH0AA1Xkg9I9",
        "outputId": "3fe23666-753b-4d91-c09e-aeadbac31a96"
      },
      "execution_count": null,
      "outputs": [
        {
          "output_type": "stream",
          "name": "stdout",
          "text": [
            "Good Morning\n",
            "Hello World\n",
            "Thanks for using this function\n",
            "Good Morning\n",
            "11\n",
            "Thanks for using this function\n"
          ]
        }
      ]
    },
    {
      "cell_type": "markdown",
      "source": [
        "Getters and setters did not understand Day 60"
      ],
      "metadata": {
        "id": "rNwPxRWtLTL_"
      }
    },
    {
      "cell_type": "markdown",
      "source": [
        "Inheritance"
      ],
      "metadata": {
        "id": "-orYlEyqNO14"
      }
    },
    {
      "cell_type": "code",
      "source": [
        "class Employees:\n",
        "  def __init__(self,fname,lname,id):\n",
        "    self.fname=fname\n",
        "    self.lname=lname\n",
        "    self.id=int(id)\n",
        "  def showdetails(self):\n",
        "    print(f\"The name of the employee is {self.fname} {self.lname} and the id is {self.id}\")\n",
        "\n",
        "class Programmer(Employees):\n",
        "  def showlanguage(self):\n",
        "    if self.id//100==1:\n",
        "      p=\"C++\"\n",
        "      print(f\"The language is {p}\")\n",
        "    elif self.id//100==2:\n",
        "      p=\"Python\"\n",
        "      print(f\"The language is {p}\")\n",
        "    elif self.id//100==3:\n",
        "      p=\"Java\"\n",
        "      print(f\"The language is {p}\")\n",
        "    else:\n",
        "      print(\"The language is Python\")\n",
        "\n",
        "e1= Programmer(\"Rohan\",\"Das\",\"323\")\n",
        "e1.showdetails()\n",
        "e1.showlanguage()"
      ],
      "metadata": {
        "colab": {
          "base_uri": "https://localhost:8080/"
        },
        "id": "gJAeVffCB6hG",
        "outputId": "95db9b1e-9ea1-4c84-d374-de22458c6cb8"
      },
      "execution_count": null,
      "outputs": [
        {
          "output_type": "stream",
          "name": "stdout",
          "text": [
            "The name of the employee is Rohan Das and the id is 323\n",
            "The language is Java\n"
          ]
        }
      ]
    },
    {
      "cell_type": "code",
      "source": [
        "class room:\n",
        "  def __init__(self):\n",
        "    self.__name=\"Room1\"\n",
        "r=room()\n",
        "print(r._room__name)"
      ],
      "metadata": {
        "colab": {
          "base_uri": "https://localhost:8080/"
        },
        "id": "ihwZE-H2Q-yQ",
        "outputId": "6fdce808-d926-445f-d0f4-ae9af4bd2c04"
      },
      "execution_count": null,
      "outputs": [
        {
          "output_type": "stream",
          "name": "stdout",
          "text": [
            "Room1\n"
          ]
        }
      ]
    },
    {
      "cell_type": "code",
      "source": [
        "class library:\n",
        "  def __init__(self):\n",
        "    self.noBooks=0\n",
        "    self.Books=[]\n",
        "  def addBook(self,book):\n",
        "    self.Books.append(book)\n",
        "    self.noBooks=len(self.Books)\n",
        "  def showInfo(self):\n",
        "    print(f\"The library has {self.noBooks} books\")\n",
        "\n",
        "\n",
        "l1=library()\n",
        "l1.addBook(\"Harry Potter\")\n",
        "l1.addBook(\"Rich Dad Poor Dad\")\n",
        "l1.showInfo()\n",
        "print(l1.Books)"
      ],
      "metadata": {
        "id": "d-PIysO6haPs",
        "colab": {
          "base_uri": "https://localhost:8080/"
        },
        "outputId": "e8ccfd37-d847-485a-b647-e212c4e2242d"
      },
      "execution_count": null,
      "outputs": [
        {
          "output_type": "stream",
          "name": "stdout",
          "text": [
            "The library has 2 books\n",
            "['Harry Potter', 'Rich Dad Poor Dad']\n"
          ]
        }
      ]
    },
    {
      "cell_type": "code",
      "source": [
        "class math:\n",
        "  def __init__(self,a,b):\n",
        "    self.a=a\n",
        "    self.b=b\n",
        "  def add(self):\n",
        "    return self.a+self.b"
      ],
      "metadata": {
        "id": "6tYfQKnQivYk"
      },
      "execution_count": null,
      "outputs": []
    },
    {
      "cell_type": "markdown",
      "source": [
        "Clear the Clutter"
      ],
      "metadata": {
        "id": "cGL0rcCZjqyy"
      }
    },
    {
      "cell_type": "code",
      "source": [
        "import os\n",
        "print(os.listdir(\"/\"))"
      ],
      "metadata": {
        "colab": {
          "base_uri": "https://localhost:8080/"
        },
        "id": "oIFmwhlQ8pqq",
        "outputId": "7a6a3ae7-3522-464a-ccdc-930a53e5b651"
      },
      "execution_count": 2,
      "outputs": [
        {
          "output_type": "stream",
          "name": "stdout",
          "text": [
            "['tmp', 'boot', 'lib64', 'lib', 'srv', 'proc', 'root', 'mnt', 'var', 'media', 'home', 'lib32', 'dev', 'usr', 'sys', 'opt', 'run', 'sbin', 'libx32', 'etc', 'bin', '.dockerenv', 'tools', 'datalab', 'content', 'python-apt', 'NGC-DL-CONTAINER-LICENSE', 'cuda-keyring_1.0-1_all.deb']\n"
          ]
        }
      ]
    },
    {
      "cell_type": "code",
      "source": [
        "import os\n",
        "files=os.listdir(\"Desktop\")\n",
        "i=1\n",
        "for file in files:\n",
        "  if file.startswith(\"Screenshot\"):\n",
        "    print(file)\n",
        "  os.rename(f\"Desktop/{file}\",f\"Desktop/Screenshot{i}.png\")\n",
        "  i=i+1\n",
        "\n"
      ],
      "metadata": {
        "colab": {
          "base_uri": "https://localhost:8080/",
          "height": 216
        },
        "id": "KF0xITvO6tVf",
        "outputId": "bd1ad671-a510-4897-bf66-ae49b7a51a79"
      },
      "execution_count": 1,
      "outputs": [
        {
          "output_type": "error",
          "ename": "FileNotFoundError",
          "evalue": "[Errno 2] No such file or directory: 'Desktop'",
          "traceback": [
            "\u001b[0;31m---------------------------------------------------------------------------\u001b[0m",
            "\u001b[0;31mFileNotFoundError\u001b[0m                         Traceback (most recent call last)",
            "\u001b[0;32m<ipython-input-1-59c571969a43>\u001b[0m in \u001b[0;36m<cell line: 2>\u001b[0;34m()\u001b[0m\n\u001b[1;32m      1\u001b[0m \u001b[0;32mimport\u001b[0m \u001b[0mos\u001b[0m\u001b[0;34m\u001b[0m\u001b[0;34m\u001b[0m\u001b[0m\n\u001b[0;32m----> 2\u001b[0;31m \u001b[0mfiles\u001b[0m\u001b[0;34m=\u001b[0m\u001b[0mos\u001b[0m\u001b[0;34m.\u001b[0m\u001b[0mlistdir\u001b[0m\u001b[0;34m(\u001b[0m\u001b[0;34m\"Desktop\"\u001b[0m\u001b[0;34m)\u001b[0m\u001b[0;34m\u001b[0m\u001b[0;34m\u001b[0m\u001b[0m\n\u001b[0m\u001b[1;32m      3\u001b[0m \u001b[0mi\u001b[0m\u001b[0;34m=\u001b[0m\u001b[0;36m1\u001b[0m\u001b[0;34m\u001b[0m\u001b[0;34m\u001b[0m\u001b[0m\n\u001b[1;32m      4\u001b[0m \u001b[0;32mfor\u001b[0m \u001b[0mfile\u001b[0m \u001b[0;32min\u001b[0m \u001b[0mfiles\u001b[0m\u001b[0;34m:\u001b[0m\u001b[0;34m\u001b[0m\u001b[0;34m\u001b[0m\u001b[0m\n\u001b[1;32m      5\u001b[0m   \u001b[0;32mif\u001b[0m \u001b[0mfile\u001b[0m\u001b[0;34m.\u001b[0m\u001b[0mstartswith\u001b[0m\u001b[0;34m(\u001b[0m\u001b[0;34m\"Screenshot\"\u001b[0m\u001b[0;34m)\u001b[0m\u001b[0;34m:\u001b[0m\u001b[0;34m\u001b[0m\u001b[0;34m\u001b[0m\u001b[0m\n",
            "\u001b[0;31mFileNotFoundError\u001b[0m: [Errno 2] No such file or directory: 'Desktop'"
          ]
        }
      ]
    },
    {
      "cell_type": "code",
      "source": [
        "from google.colab import drive\n",
        "drive.mount('/content/drive')"
      ],
      "metadata": {
        "id": "UfEizS1u60f5"
      },
      "execution_count": null,
      "outputs": []
    },
    {
      "cell_type": "markdown",
      "source": [
        "Alternative constructor"
      ],
      "metadata": {
        "id": "bhY_rw1SwAZ1"
      }
    },
    {
      "cell_type": "code",
      "source": [
        "class Employees:\n",
        "  company = \"Google\"\n",
        "  def __init__(self,name,salary):\n",
        "    self.name=name\n",
        "    self.salary=salary\n",
        "  def getDetails(self):\n",
        "    print(f\"The name of the employee is {self.name} and the salary is {self.salary} at {self.company}\")\n",
        "\n",
        "  @classmethod\n",
        "  def changeCompany(cls,newCompany):\n",
        "    cls.company=newCompany\n",
        "\n",
        "\n",
        "e1=Employees(\"Harry\",100000)\n",
        "e1.getDetails()\n",
        "e1.changeCompany(\"Youtube\")\n",
        "e1.getDetails()"
      ],
      "metadata": {
        "id": "WrRrXNWxn_2s",
        "colab": {
          "base_uri": "https://localhost:8080/"
        },
        "outputId": "29335c28-c5ea-484b-98c4-77599181e06c"
      },
      "execution_count": null,
      "outputs": [
        {
          "output_type": "stream",
          "name": "stdout",
          "text": [
            "The name of the employee is Harry and the salary is 100000 at Google\n",
            "The name of the employee is Harry and the salary is 100000 at Youtube\n"
          ]
        }
      ]
    },
    {
      "cell_type": "code",
      "source": [
        "class Employee:\n",
        "  def __init__(self,stg):\n",
        "    self.name=stg.split(\"-\")[0]\n",
        "    self.salary=stg.split(\"-\")[1]\n",
        "    self.role=stg.split(\"-\")[2]\n",
        "  @classmethod\n",
        "  def fromind(cls,name,salary,role):\n",
        "    return cls(str(name)+\"-\"+str(salary)+\"-\"+str(role))\n",
        "  def getDetails(self):\n",
        "     print(f\"The name of the employee is {self.name} and the salary is {self.salary} and the role is {self.role}\")\n",
        "e1=Employee(\"Harry-1200000-Data Scientist\")\n",
        "e2=Employee.fromind(\"Daniel\",\"1400000\",\"Data Engineer\")\n",
        "e1.getDetails()\n",
        "e2.getDetails()"
      ],
      "metadata": {
        "colab": {
          "base_uri": "https://localhost:8080/"
        },
        "id": "exDlR47coM1C",
        "outputId": "f6f04067-3ef5-4a12-cc75-b0dbdd95b436"
      },
      "execution_count": null,
      "outputs": [
        {
          "output_type": "stream",
          "name": "stdout",
          "text": [
            "The name of the employee is Harry and the salary is 1200000 and the role is Data Scientist\n",
            "The name of the employee is Daniel and the salary is 1400000 and the role is Data Engineer\n"
          ]
        }
      ]
    },
    {
      "cell_type": "markdown",
      "source": [
        "Dir(), __dict__, help()"
      ],
      "metadata": {
        "id": "8376_zXTwi9B"
      }
    },
    {
      "cell_type": "markdown",
      "source": [
        "SuperKeywords"
      ],
      "metadata": {
        "id": "LBawEHjM099S"
      }
    },
    {
      "cell_type": "code",
      "source": [
        "class ParentClass:\n",
        "  def parent_method(self):\n",
        "    print(\"This is the parent method\")\n",
        "class ChildClass(ParentClass):\n",
        "  def child_method(self):\n",
        "    print(\"This is the child method\")\n",
        "  def parent_method(self):\n",
        "    print(\"This is the childclass child method\")\n",
        "    super().parent_method()\n",
        "c1=ChildClass()\n",
        "c1.child_method()\n",
        "c1.parent_method()"
      ],
      "metadata": {
        "colab": {
          "base_uri": "https://localhost:8080/"
        },
        "id": "LYiaRBUhwpf4",
        "outputId": "cf35d75e-d19a-4dfe-9a6a-1b9d8c108b72"
      },
      "execution_count": null,
      "outputs": [
        {
          "output_type": "stream",
          "name": "stdout",
          "text": [
            "This is the child method\n",
            "This is the childclass child method\n",
            "This is the parent method\n"
          ]
        }
      ]
    },
    {
      "cell_type": "code",
      "source": [
        "class Employee:\n",
        "  def __init__(self,name,id):\n",
        "    self.name=name\n",
        "    self.id=id\n",
        "  def showdetails(self):\n",
        "    print(f\"The name of the employee is {self.name} and the id is {self.id}\")\n",
        "class Programmer(Employee):\n",
        "  def __init__(self,name,id,lang):\n",
        "    super().__init__(name,id)\n",
        "    self.lang=lang\n",
        "  def showdetails(self):\n",
        "    super().showdetails()\n",
        "    print(f\"The language is {self.lang}\")\n",
        "\n",
        "Harry=Programmer(\"Harry\",123,\"Python\")\n",
        "print(Harry.__dict__)\n",
        "print(dir(Harry))\n",
        "print(help(Harry))"
      ],
      "metadata": {
        "colab": {
          "base_uri": "https://localhost:8080/"
        },
        "id": "KT0jmGPn6XiE",
        "outputId": "a2a1ce8e-6786-406a-f4ea-e738ad4c7a40"
      },
      "execution_count": null,
      "outputs": [
        {
          "output_type": "stream",
          "name": "stdout",
          "text": [
            "{'name': 'Harry', 'id': 123, 'lang': 'Python'}\n",
            "['__class__', '__delattr__', '__dict__', '__dir__', '__doc__', '__eq__', '__format__', '__ge__', '__getattribute__', '__gt__', '__hash__', '__init__', '__init_subclass__', '__le__', '__lt__', '__module__', '__ne__', '__new__', '__reduce__', '__reduce_ex__', '__repr__', '__setattr__', '__sizeof__', '__str__', '__subclasshook__', '__weakref__', 'id', 'lang', 'name', 'showdetails']\n",
            "Help on Programmer in module __main__ object:\n",
            "\n",
            "class Programmer(Employee)\n",
            " |  Programmer(name, id, lang)\n",
            " |  \n",
            " |  Method resolution order:\n",
            " |      Programmer\n",
            " |      Employee\n",
            " |      builtins.object\n",
            " |  \n",
            " |  Methods defined here:\n",
            " |  \n",
            " |  __init__(self, name, id, lang)\n",
            " |      Initialize self.  See help(type(self)) for accurate signature.\n",
            " |  \n",
            " |  showdetails(self)\n",
            " |  \n",
            " |  ----------------------------------------------------------------------\n",
            " |  Data descriptors inherited from Employee:\n",
            " |  \n",
            " |  __dict__\n",
            " |      dictionary for instance variables (if defined)\n",
            " |  \n",
            " |  __weakref__\n",
            " |      list of weak references to the object (if defined)\n",
            "\n",
            "None\n"
          ]
        }
      ]
    },
    {
      "cell_type": "markdown",
      "source": [
        "Dunder/Magic Methods"
      ],
      "metadata": {
        "id": "masFAXfc98a2"
      }
    },
    {
      "cell_type": "code",
      "source": [
        "class Employee:\n",
        "  name=\"Harry\"\n",
        "  def __len__(self):\n",
        "    i=0\n",
        "    for x in self.name:\n",
        "      i=i+1\n",
        "    return i\n",
        "  def __str__(self):\n",
        "    return f\"The name of the employee is {self.name}\"\n",
        "  def __repr__(self):\n",
        "    return f\"Employee({self.name})\"\n",
        "  def __call__(self):\n",
        "    print(\"On calling the object\")\n",
        "e=Employee()\n",
        "print(e.name)\n",
        "print(len(e))\n",
        "print(str(e))\n",
        "print(repr(e))\n",
        "e()\n"
      ],
      "metadata": {
        "colab": {
          "base_uri": "https://localhost:8080/"
        },
        "id": "89LPg896-H38",
        "outputId": "94dfa01d-548e-40b4-f328-30f515e0b5b8"
      },
      "execution_count": null,
      "outputs": [
        {
          "output_type": "stream",
          "name": "stdout",
          "text": [
            "Harry\n",
            "5\n",
            "The name of the employee is Harry\n",
            "Employee(Harry)\n",
            "On calling the object\n"
          ]
        }
      ]
    },
    {
      "cell_type": "markdown",
      "source": [
        "METHOD OVERRIDDING"
      ],
      "metadata": {
        "id": "Pdr956yrsWKn"
      }
    },
    {
      "cell_type": "code",
      "source": [
        "class shape:\n",
        "  def __init__(self,x,y):\n",
        "    self.x=x\n",
        "    self.y=y\n",
        "  def area(self):\n",
        "    return self.x*self.y\n",
        "\n",
        "class Rectangle(shape):\n",
        "  def __init__(self,x,y):\n",
        "    super().__init__(x,y)\n",
        "  def area(self):\n",
        "    return super().area()\n",
        "\n",
        "class Circle(shape):\n",
        "  def __init__(self,x):\n",
        "    self.radius=x\n",
        "    super().__init__(x,x)\n",
        "  def area(self):\n",
        "    return 3.14*super().area()\n",
        "\n",
        "\n",
        "r=Rectangle(5,10)\n",
        "print(r.area())\n",
        "c=Circle(5)\n",
        "print(c.area())"
      ],
      "metadata": {
        "colab": {
          "base_uri": "https://localhost:8080/"
        },
        "id": "QbucwrSesZtU",
        "outputId": "a29d16b5-dc02-4c17-f5d3-1886fcce96c9"
      },
      "execution_count": 3,
      "outputs": [
        {
          "output_type": "stream",
          "name": "stdout",
          "text": [
            "50\n",
            "78.5\n"
          ]
        }
      ]
    },
    {
      "cell_type": "code",
      "source": [
        "pip install pyPdf2"
      ],
      "metadata": {
        "colab": {
          "base_uri": "https://localhost:8080/"
        },
        "id": "8VbY39wO6asX",
        "outputId": "a3b7de7c-2bb6-443b-df7c-e46f31b7574b"
      },
      "execution_count": 8,
      "outputs": [
        {
          "output_type": "stream",
          "name": "stdout",
          "text": [
            "Collecting pyPdf2\n",
            "  Downloading pypdf2-3.0.1-py3-none-any.whl.metadata (6.8 kB)\n",
            "Downloading pypdf2-3.0.1-py3-none-any.whl (232 kB)\n",
            "\u001b[2K   \u001b[90m━━━━━━━━━━━━━━━━━━━━━━━━━━━━━━━━━━━━━━━━\u001b[0m \u001b[32m232.6/232.6 kB\u001b[0m \u001b[31m4.0 MB/s\u001b[0m eta \u001b[36m0:00:00\u001b[0m\n",
            "\u001b[?25hInstalling collected packages: pyPdf2\n",
            "Successfully installed pyPdf2-3.0.1\n"
          ]
        }
      ]
    },
    {
      "cell_type": "code",
      "source": [
        "import PyPDF2\n",
        "import os"
      ],
      "metadata": {
        "id": "08QVXZOA-4wz"
      },
      "execution_count": 10,
      "outputs": []
    },
    {
      "cell_type": "code",
      "source": [
        "from PyPDF2 import PdfWriter"
      ],
      "metadata": {
        "id": "OguyHfwcAsJc"
      },
      "execution_count": 11,
      "outputs": []
    },
    {
      "cell_type": "markdown",
      "source": [
        "PDF Merging"
      ],
      "metadata": {
        "id": "O9yPHwAitVYt"
      }
    },
    {
      "cell_type": "code",
      "source": [
        "merger = PdfWriter()\n",
        "files=[file for file in os.listdir(). if file.endswith(\".pdf\")]\n",
        "for pdf in [\"file1.pdf\",\"file2.pdf\"]:\n",
        "  merger.append(pdf)\n",
        "merger.write(\"merged.pdf\")\n",
        "merger.close()"
      ],
      "metadata": {
        "id": "YOLnUEciAxSu"
      },
      "execution_count": 12,
      "outputs": []
    },
    {
      "cell_type": "code",
      "source": [
        "class Vector:\n",
        "  def __init__(self,i,j,k):\n",
        "    self.i=i\n",
        "    self.j=j\n",
        "    self.k=k\n",
        "  def __str__(self):\n",
        "    return f\"{self.i}i+{self.j}j+{self.k}k\"\n",
        "\n",
        "  def __add__(self,v):\n",
        "    return Vector(self.i+v.i,self.j+v.j,self.k+v.k)\n",
        "\n",
        "  def __mul__(self,v):\n",
        "    return Vector(self.i*v.i,self.j*v.j,self.k*v.k)\n",
        "\n",
        "  def __len__(self):\n",
        "    return 3\n",
        "\n",
        "  def __call__(self):\n",
        "    print(\"On calling the object\")\n",
        "    return f\"{self.i}i+{self.j}j+{self.k}k\"\n",
        "\n",
        "  def __eq__(self,v):\n",
        "    return self.i==v.i and self.j==v.j and self.k==v.k\n",
        "\n",
        "  def __gt__(self,v):\n",
        "    return self.i>v.i and self.j>v.j and self.k>v.k\n",
        "  def __lt__(self,v):\n",
        "    return self.i<v.i and self.j<v.j and self.k<v.k\n",
        "  def __ge__(self,v):\n",
        "    return self.i>=v.i and self.j>=v.j and self.k>=v.k\n",
        "  def __le__(self,v):\n",
        "    return self.i<=v.i and self.j<=v.j and self.k<=v.k\n",
        "  def __ne__(self,v):\n",
        "    return self.i!=v.i and self.j!=v.j and self.k!=v.k\n",
        "v=Vector(1,2,3)\n",
        "print(v)\n",
        "v1=Vector(4,5,6)\n",
        "print(v1)\n",
        "print(v+v1)\n",
        "print(v*v1)\n",
        "print(len(v))\n",
        "v()\n",
        "\n",
        "v=Vector(1,2,3)\n",
        "print(v)\n",
        "v1=Vector(4,5,6)\n",
        "print(v1)\n",
        "print(v+v1)"
      ],
      "metadata": {
        "colab": {
          "base_uri": "https://localhost:8080/"
        },
        "id": "3nB0JSr6A42h",
        "outputId": "3eb9aac4-6882-49c5-e087-8e8d86bfc3ea"
      },
      "execution_count": 21,
      "outputs": [
        {
          "output_type": "stream",
          "name": "stdout",
          "text": [
            "1i+2j+3k\n",
            "4i+5j+6k\n",
            "5i+7j+9k\n"
          ]
        }
      ]
    },
    {
      "cell_type": "markdown",
      "source": [
        "Hybrid and Heirarcy inheritance"
      ],
      "metadata": {
        "id": "-E0IrWJ2rzgG"
      }
    },
    {
      "cell_type": "code",
      "source": [
        "class shape:\n",
        "  def __init__(self,x,y):\n",
        "    self.x=x\n",
        "    self.y=y\n",
        "  def area(self):\n",
        "    return self.x*self.y\n",
        "\n",
        "class Rectangle(shape):\n",
        "  def __init__(self,x,y):\n",
        "    super().__init__(x,y)\n",
        "  def area(self):\n",
        "    return super().area()\n",
        "\n",
        "class Circle(shape):\n",
        "  def __init__(self,x):\n",
        "    self.radius=x\n",
        "    super().__init__(x,x)\n",
        "  def area(self):\n",
        "    return 3.14*super().area()\n",
        "\n",
        "class Cuboid(Rectangle):\n",
        "  def __init__(self,x,y,z):\n",
        "    self.z=z\n",
        "    super().__init__(x,y)\n",
        "  def Volume(self):\n",
        "    return super().area()*self.z\n",
        "class cube(Cuboid):\n",
        "  def __init__(self,x):\n",
        "    super().__init__(x,x,x)\n",
        "\n",
        "class Sphere(Circle):\n",
        "  def __init__(self,x):\n",
        "    super().__init__(x)\n",
        "  def Volume(self):\n",
        "      return int(4/3*super().area())\n",
        "\n",
        "c=Cuboid(5,10,20)\n",
        "print(c.Volume())\n",
        "cu=cube(5)\n",
        "print(cu.Volume())\n",
        "s=Sphere(5)\n",
        "print(s.Volume())\n"
      ],
      "metadata": {
        "colab": {
          "base_uri": "https://localhost:8080/"
        },
        "id": "zss6dblXZWGf",
        "outputId": "3b1f3631-d97d-47fe-f91a-daa1b29ccaea"
      },
      "execution_count": 33,
      "outputs": [
        {
          "output_type": "stream",
          "name": "stdout",
          "text": [
            "1000\n",
            "125\n",
            "104\n"
          ]
        }
      ]
    },
    {
      "cell_type": "markdown",
      "source": [
        "Multiple Inheritance"
      ],
      "metadata": {
        "id": "84845gaZqfEK"
      }
    },
    {
      "cell_type": "code",
      "source": [
        "class Animal:\n",
        "  def __init__(self,name,species):\n",
        "    self.name=name\n",
        "    self.species=species\n",
        "  def showdetails(self):\n",
        "    print(f\"Animal : {self.name}\\nSpecies : {self.species}\")\n",
        "\n",
        "class Dog(Animal):\n",
        "  def __init__(self,name,breed):\n",
        "    super().__init__(name,species=\"Dog\")\n",
        "    self.breed=breed\n",
        "  def showdetails(self):\n",
        "    Animal.showdetails(self)\n",
        "    print(f\"Breed : {self.breed}\")\n",
        "\n",
        "class Goldenretriever(Dog):\n",
        "  def __init__(self,name,color):\n",
        "    super().__init__(name,breed=\"Golden Retriever\")\n",
        "    self.color=color\n",
        "  def showdetails(self):\n",
        "    Dog.showdetails(self)\n",
        "    print(f\"Color : {self.color}\\n\")\n",
        "\n",
        "g=Goldenretriever(\"Tommy\",\"Brown\")\n",
        "g.showdetails()"
      ],
      "metadata": {
        "colab": {
          "base_uri": "https://localhost:8080/"
        },
        "id": "SdMXu3XrlbP_",
        "outputId": "297594e2-640e-4728-ecc2-646289b6d02b"
      },
      "execution_count": 49,
      "outputs": [
        {
          "output_type": "stream",
          "name": "stdout",
          "text": [
            "Animal : Tommy\n",
            "Species : Dog\n",
            "Breed : Golden Retriever\n",
            "Color : Brown\n",
            "\n"
          ]
        }
      ]
    },
    {
      "cell_type": "code",
      "source": [
        "pip install pyttsx3"
      ],
      "metadata": {
        "colab": {
          "base_uri": "https://localhost:8080/"
        },
        "id": "3JdRVQp1rk2S",
        "outputId": "ab32b0fd-1cb8-44b1-c3b0-c071c55de108"
      },
      "execution_count": 55,
      "outputs": [
        {
          "output_type": "stream",
          "name": "stdout",
          "text": [
            "Requirement already satisfied: pyttsx3 in /usr/local/lib/python3.10/dist-packages (2.98)\n",
            "\u001b[31mERROR: Operation cancelled by user\u001b[0m\u001b[31m\n",
            "\u001b[0m"
          ]
        }
      ]
    },
    {
      "cell_type": "code",
      "source": [
        "!pip install gTTS"
      ],
      "metadata": {
        "colab": {
          "base_uri": "https://localhost:8080/"
        },
        "id": "puHqZlAvxg2k",
        "outputId": "8fef76ce-1f69-4109-f4ea-37cdfbf7af08"
      },
      "execution_count": 58,
      "outputs": [
        {
          "output_type": "stream",
          "name": "stdout",
          "text": [
            "Collecting gTTS\n",
            "  Downloading gTTS-2.5.3-py3-none-any.whl.metadata (4.1 kB)\n",
            "Requirement already satisfied: requests<3,>=2.27 in /usr/local/lib/python3.10/dist-packages (from gTTS) (2.32.3)\n",
            "Requirement already satisfied: click<8.2,>=7.1 in /usr/local/lib/python3.10/dist-packages (from gTTS) (8.1.7)\n",
            "Requirement already satisfied: charset-normalizer<4,>=2 in /usr/local/lib/python3.10/dist-packages (from requests<3,>=2.27->gTTS) (3.3.2)\n",
            "Requirement already satisfied: idna<4,>=2.5 in /usr/local/lib/python3.10/dist-packages (from requests<3,>=2.27->gTTS) (3.10)\n",
            "Requirement already satisfied: urllib3<3,>=1.21.1 in /usr/local/lib/python3.10/dist-packages (from requests<3,>=2.27->gTTS) (2.2.3)\n",
            "Requirement already satisfied: certifi>=2017.4.17 in /usr/local/lib/python3.10/dist-packages (from requests<3,>=2.27->gTTS) (2024.8.30)\n",
            "Downloading gTTS-2.5.3-py3-none-any.whl (29 kB)\n",
            "Installing collected packages: gTTS\n",
            "Successfully installed gTTS-2.5.3\n"
          ]
        }
      ]
    },
    {
      "cell_type": "code",
      "source": [
        "from gtts import gTTS\n",
        "from IPython.display import Audio\n",
        "\n",
        "# Text you want to convert to speech\n",
        "text = [\"Sai Kiran\",\"Ajay\",\"Theju\",\"Sudharshan\"]\n",
        "\n",
        "# Initialize gTTS and save the speech as an mp3 file\n",
        "for i in text:\n",
        "  tts = gTTS(i)\n",
        "  Audio(tts, autoplay=True)\n"
      ],
      "metadata": {
        "id": "wLyTFx-Xw0kW"
      },
      "execution_count": null,
      "outputs": []
    },
    {
      "cell_type": "code",
      "source": [
        "from os import system\n",
        "names=[\"Sai Kiran\",\"Ajay\",\"Theju\",\"Sudharshan\"]\n",
        "for name in names:\n",
        "  system(f\"say Shoutout to {name}\")"
      ],
      "metadata": {
        "id": "Mc1JgeYzld82"
      },
      "execution_count": 3,
      "outputs": []
    },
    {
      "cell_type": "markdown",
      "source": [
        "Time Module"
      ],
      "metadata": {
        "id": "HvWWaDiUyjRi"
      }
    },
    {
      "cell_type": "code",
      "source": [
        "import time\n",
        "print(int(time.time()))\n",
        "print(time.ctime())"
      ],
      "metadata": {
        "colab": {
          "base_uri": "https://localhost:8080/"
        },
        "id": "kX_jIPsYyic8",
        "outputId": "9291441a-d50b-44bf-adeb-6db08bf2fa34"
      },
      "execution_count": 64,
      "outputs": [
        {
          "output_type": "stream",
          "name": "stdout",
          "text": [
            "1727916352\n",
            "Thu Oct  3 00:45:52 2024\n"
          ]
        }
      ]
    },
    {
      "cell_type": "code",
      "source": [
        "def usingWhile():\n",
        "  i=0\n",
        "  while i<50000:\n",
        "    i=i+1\n",
        "def usingFor():\n",
        "  i=0\n",
        "  for i in range(50000):\n",
        "    pass\n",
        "\n",
        "init=time.time()\n",
        "usingFor()\n",
        "t1=(time.time()-init)\n",
        "init=time.time()\n",
        "usingWhile()\n",
        "print(time.time()-init)\n",
        "print(t1)"
      ],
      "metadata": {
        "colab": {
          "base_uri": "https://localhost:8080/"
        },
        "id": "EoyKToGw155C",
        "outputId": "8e7b7193-78b6-459a-f180-4964e0eb5b01"
      },
      "execution_count": 67,
      "outputs": [
        {
          "output_type": "stream",
          "name": "stdout",
          "text": [
            "0.005283832550048828\n",
            "0.002232789993286133\n"
          ]
        }
      ]
    },
    {
      "cell_type": "code",
      "source": [
        "print(4)\n",
        "time.sleep(3)\n",
        "print(5)"
      ],
      "metadata": {
        "colab": {
          "base_uri": "https://localhost:8080/"
        },
        "id": "YuA_w4WN3_K2",
        "outputId": "bd6f403a-626d-4a53-f92c-c19c661323ab"
      },
      "execution_count": 68,
      "outputs": [
        {
          "output_type": "stream",
          "name": "stdout",
          "text": [
            "4\n",
            "5\n"
          ]
        }
      ]
    },
    {
      "cell_type": "code",
      "source": [
        "t=time.localtime()\n",
        "print(t)\n",
        "formated=time.strftime(\"%d-%m-%Y %H:%M:%S\",t)\n",
        "print(formated)"
      ],
      "metadata": {
        "colab": {
          "base_uri": "https://localhost:8080/"
        },
        "id": "q3CTIEuy4SDb",
        "outputId": "e5708aa9-e980-4e5c-b583-cfca79fb3d17"
      },
      "execution_count": 71,
      "outputs": [
        {
          "output_type": "stream",
          "name": "stdout",
          "text": [
            "time.struct_time(tm_year=2024, tm_mon=10, tm_mday=3, tm_hour=0, tm_min=57, tm_sec=49, tm_wday=3, tm_yday=277, tm_isdst=0)\n",
            "03-10-2024 00:57:49\n"
          ]
        }
      ]
    },
    {
      "cell_type": "markdown",
      "source": [
        "Command Line utilites"
      ],
      "metadata": {
        "id": "806s2Q1a55Sj"
      }
    },
    {
      "cell_type": "code",
      "source": [
        "import argparse\n",
        "import requests\n",
        "\n",
        "def DownloadFile(url):\n",
        "    local_filename = url.split('/')[-1]\n",
        "    r = requests.get(url)\n",
        "    f = open(local_filename, 'wb')\n",
        "    for chunk in r.iter_content(chunk_size=512 * 1024):\n",
        "        if chunk: # filter out keep-alive new chunks\n",
        "            f.write(chunk)\n",
        "    f.close()\n",
        "    return local_filename\n",
        "\n",
        "parser=argparse.ArgumentParser()\n",
        "\n",
        "parser.add_argument(\"url\",help=\"Url of the file to download\")\n",
        "parser.add_argument(\"output\",help=\"This is the output file\")\n",
        "\n",
        "args = parser.parse_args()\n",
        "\n",
        "print(args.url)\n",
        "print(args.output)\n",
        "DownloadFile(args.url, args.output)"
      ],
      "metadata": {
        "colab": {
          "base_uri": "https://localhost:8080/",
          "height": 162
        },
        "id": "umqnXc-r38d1",
        "outputId": "deaa3d7c-3d33-456e-95df-016727088423"
      },
      "execution_count": 3,
      "outputs": [
        {
          "output_type": "stream",
          "name": "stderr",
          "text": [
            "usage: colab_kernel_launcher.py [-h] url output\n",
            "colab_kernel_launcher.py: error: the following arguments are required: output\n"
          ]
        },
        {
          "output_type": "error",
          "ename": "SystemExit",
          "evalue": "2",
          "traceback": [
            "An exception has occurred, use %tb to see the full traceback.\n",
            "\u001b[0;31mSystemExit\u001b[0m\u001b[0;31m:\u001b[0m 2\n"
          ]
        },
        {
          "output_type": "stream",
          "name": "stderr",
          "text": [
            "/usr/local/lib/python3.10/dist-packages/IPython/core/interactiveshell.py:3561: UserWarning: To exit: use 'exit', 'quit', or Ctrl-D.\n",
            "  warn(\"To exit: use 'exit', 'quit', or Ctrl-D.\", stacklevel=1)\n"
          ]
        }
      ]
    },
    {
      "cell_type": "markdown",
      "source": [
        "Walrus Operator"
      ],
      "metadata": {
        "id": "qb9ap1XC-sxd"
      }
    },
    {
      "cell_type": "code",
      "source": [
        "num=[1,2,3,4,5]\n",
        "while (n:= len(num))>0:\n",
        "  print(num.pop())"
      ],
      "metadata": {
        "colab": {
          "base_uri": "https://localhost:8080/"
        },
        "id": "t42n_pGs87yJ",
        "outputId": "b2cc724c-9f55-4bdb-d7da-9979bc5dce38"
      },
      "execution_count": 4,
      "outputs": [
        {
          "output_type": "stream",
          "name": "stdout",
          "text": [
            "5\n",
            "4\n",
            "3\n",
            "2\n",
            "1\n"
          ]
        }
      ]
    },
    {
      "cell_type": "markdown",
      "source": [
        "SHUTIL MODULE"
      ],
      "metadata": {
        "id": "xtJuuac3hp0-"
      }
    },
    {
      "cell_type": "code",
      "source": [
        "import shutil"
      ],
      "metadata": {
        "id": "PT7Now7Fhk9c"
      },
      "execution_count": 1,
      "outputs": []
    },
    {
      "cell_type": "code",
      "source": [
        "shutil.copy(\"file1.pdf\",\"file2.pdf\")"
      ],
      "metadata": {
        "id": "7GMpZKjHj5rN"
      },
      "execution_count": null,
      "outputs": []
    },
    {
      "cell_type": "code",
      "source": [
        "shutil.copytree(\"Desktop\",\"Desktop1\")"
      ],
      "metadata": {
        "id": "lFOe4ur2j-tk"
      },
      "execution_count": null,
      "outputs": []
    },
    {
      "cell_type": "code",
      "source": [
        "shutil.move(\"Desktop1\",\"Desktop\")"
      ],
      "metadata": {
        "id": "g7NVSfdhkD84"
      },
      "execution_count": null,
      "outputs": []
    },
    {
      "cell_type": "code",
      "source": [
        "shutil.rmtree(\"Mytutorial\")"
      ],
      "metadata": {
        "id": "tPPoo_r3kR6g"
      },
      "execution_count": null,
      "outputs": []
    },
    {
      "cell_type": "markdown",
      "source": [
        "REQUEST MODULE"
      ],
      "metadata": {
        "id": "Ave42TYYm92L"
      }
    },
    {
      "cell_type": "code",
      "source": [
        "import requests\n",
        "response=requests.get(\"https://www.google.com\")\n",
        "print(response.status_code)\n",
        "print(response.headers)"
      ],
      "metadata": {
        "colab": {
          "base_uri": "https://localhost:8080/"
        },
        "id": "sOdPPeKvnACI",
        "outputId": "a8b6982c-a453-46dd-dcad-47a1f41839e1"
      },
      "execution_count": 4,
      "outputs": [
        {
          "output_type": "stream",
          "name": "stdout",
          "text": [
            "200\n",
            "{'Date': 'Thu, 03 Oct 2024 13:42:10 GMT', 'Expires': '-1', 'Cache-Control': 'private, max-age=0', 'Content-Type': 'text/html; charset=ISO-8859-1', 'Content-Security-Policy-Report-Only': \"object-src 'none';base-uri 'self';script-src 'nonce-q9hRyPxFPrPU6SJ9i4dM3g' 'strict-dynamic' 'report-sample' 'unsafe-eval' 'unsafe-inline' https: http:;report-uri https://csp.withgoogle.com/csp/gws/other-hp\", 'Accept-CH': 'Sec-CH-Prefers-Color-Scheme', 'P3P': 'CP=\"This is not a P3P policy! See g.co/p3phelp for more info.\"', 'Content-Encoding': 'gzip', 'Server': 'gws', 'X-XSS-Protection': '0', 'X-Frame-Options': 'SAMEORIGIN', 'Set-Cookie': 'SOCS=CAAaBgiAvfe3Bg; expires=Sun, 02-Nov-2025 13:42:10 GMT; path=/; domain=.google.com; Secure; SameSite=lax, AEC=AVYB7coDqxPkJZ2eh2EHtJflMN0rkDA0M70K_rzxWBS7wYGHKF_f8CmkwGs; expires=Tue, 01-Apr-2025 13:42:10 GMT; path=/; domain=.google.com; Secure; HttpOnly; SameSite=lax, __Secure-ENID=22.SE=jiNvDMUUn9gdTtuVSUJRxbNDQlnZhCpQf4u4kfr6gWzOGzJlEDcjRlq5yb62o4BjMd4YMJGDYrury9B4YEAStx9NiArzIN4hWZ2MUNxOtr_nj7N0IxsCD0-cXgBs9wuKHOKi6cdCiCk2u-YvxEJxyPigq3-S7tbHDRqHqp9BRg2gEONhraBS_dkGCCrnX15yPF68zQPsu32ge3ljgG2IxDjhNvvE65VhzmpqH1_qZDw; expires=Mon, 03-Nov-2025 06:00:28 GMT; path=/; domain=.google.com; Secure; HttpOnly; SameSite=lax', 'Transfer-Encoding': 'chunked'}\n"
          ]
        }
      ]
    },
    {
      "cell_type": "code",
      "source": [
        "url=\"https://www.codewithharry.com/blogpost/stackery-international-shopping-guide-india/\"\n",
        "response=requests.get(url)\n",
        "print(response.text)"
      ],
      "metadata": {
        "colab": {
          "base_uri": "https://localhost:8080/"
        },
        "id": "ZBjjj6ben1PP",
        "outputId": "a4f50504-eb8b-49d3-f2b6-c7f4801e4f72"
      },
      "execution_count": 6,
      "outputs": [
        {
          "output_type": "stream",
          "name": "stdout",
          "text": [
            "<!DOCTYPE html><html><head><meta charSet=\"utf-8\"/><link rel=\"stylesheet\" data-href=\"https://fonts.googleapis.com/css2?family=Poppins:wght@300;400;500;600&amp;display=swap\" data-optimized-fonts=\"true\"/><link rel=\"shortcut icon\" href=\"/img/favicon.ico\" type=\"image/x-icon\"/><meta name=\"viewport\" content=\"width=device-width, initial-scale=1\"/><script async=\"\" src=\"https://pagead2.googlesyndication.com/pagead/js/adsbygoogle.js?client=ca-pub-9655830461045889\" crossorigin=\"anonymous\"></script><title>A Comprehensive Guide to Using Stackry for International Shopping | CodeWithHarry</title><meta name=\"description\" content=\"In today&#x27;s interconnected world, the desire for cutting-edge tech gadgets, unique international products, and exclusive US deals has reached an unprecedented level. However, many consumers face the challenge of obtaining products not readily available in their home country. This is where Stackry emerges as a revolutionary solution, simplifying the process of ordering from the US and having it shipped effortlessly to India.\"/><link rel=\"icon\" href=\"/img/favicon.ico\"/><meta name=\"next-head-count\" content=\"8\"/><meta name=\"next-font-preconnect\"/><link rel=\"preload\" href=\"/_next/static/css/0b23b768aef814b7.css\" as=\"style\"/><link rel=\"stylesheet\" href=\"/_next/static/css/0b23b768aef814b7.css\" data-n-g=\"\"/><link rel=\"preload\" href=\"/_next/static/css/acfb09ebbb3d60e2.css\" as=\"style\"/><link rel=\"stylesheet\" href=\"/_next/static/css/acfb09ebbb3d60e2.css\" data-n-p=\"\"/><noscript data-n-css=\"\"></noscript><script defer=\"\" nomodule=\"\" src=\"/_next/static/chunks/polyfills-5cd94c89d3acac5f.js\"></script><script src=\"/_next/static/chunks/webpack-f29ef11eacbe415c.js\" defer=\"\"></script><script src=\"/_next/static/chunks/framework-a87821de553db91d.js\" defer=\"\"></script><script src=\"/_next/static/chunks/main-88408dc6daaaadd3.js\" defer=\"\"></script><script src=\"/_next/static/chunks/pages/_app-375010ace881d319.js\" defer=\"\"></script><script src=\"/_next/static/chunks/d64684d8-3958bddc559b53cd.js\" defer=\"\"></script><script src=\"/_next/static/chunks/252f366e-ac7ed35b4498d11b.js\" defer=\"\"></script><script src=\"/_next/static/chunks/926-fe9092953113c7d9.js\" defer=\"\"></script><script src=\"/_next/static/chunks/pages/blogpost/%5Bslug%5D-949fe34deac544bd.js\" defer=\"\"></script><script src=\"/_next/static/v1SLuCOVtvY7sXWsC5M4x/_buildManifest.js\" defer=\"\"></script><script src=\"/_next/static/v1SLuCOVtvY7sXWsC5M4x/_ssgManifest.js\" defer=\"\"></script><script src=\"/_next/static/v1SLuCOVtvY7sXWsC5M4x/_middlewareManifest.js\" defer=\"\"></script></head><body><div id=\"__next\"><div class=\"\"><div class=\"\" style=\"position:fixed;top:0;left:0;height:2px;background:transparent;z-index:99999999999;width:100%\"><div class=\"\" style=\"height:100%;background:purple;transition:all 500ms ease;width:0%\"><div style=\"box-shadow:0 0 10px purple, 0 0 10px purple;width:5%;opacity:1;position:absolute;height:100%;transition:all 500ms ease;transform:rotate(3deg) translate(0px, -4px);left:-10rem\"></div></div></div><div id=\"imgpreview2\" class=\"w-full z-10 sticky bg-white top-0 border-b border-grey-light shadow-md dark:bg-gray-800 dark:border-black\"><div class=\"w-full flex flex-wrap items-center lg:justify-between mt-0 py-4 \"><div class=\"px-0 lg:pl-4 flex items-center lg:mx-4 cursor-pointer text-purple-700 text-md md:text-xl font-bold mx-3 dark:text-purple-300\"><span><b class=\"font-bold\">&lt;/&gt;</b> CodeWithHarry<!-- --></span></div><div class=\"flex items-center md:hidden\"><div class=\"text-purple-700 text-md font-semibold\">Menu</div><svg stroke=\"currentColor\" fill=\"currentColor\" stroke-width=\"0\" viewBox=\"0 0 1024 1024\" class=\"text-purple-700 mt-1\" height=\"1em\" width=\"1em\" xmlns=\"http://www.w3.org/2000/svg\"><path d=\"M840.4 300H183.6c-19.7 0-30.7 20.8-18.5 35l328.4 380.8c9.4 10.9 27.5 10.9 37 0L858.9 335c12.2-14.2 1.2-35-18.5-35z\"></path></svg></div><svg stroke=\"currentColor\" fill=\"currentColor\" stroke-width=\"0\" viewBox=\"0 0 16 16\" class=\"md:hidden w-4 text-purple-700 mt-1 ml-2 cursor-pointer dark:text-white\" height=\"28\" width=\"28\" xmlns=\"http://www.w3.org/2000/svg\"><path d=\"M6 .278a.768.768 0 0 1 .08.858 7.208 7.208 0 0 0-.878 3.46c0 4.021 3.278 7.277 7.318 7.277.527 0 1.04-.055 1.533-.16a.787.787 0 0 1 .81.316.733.733 0 0 1-.031.893A8.349 8.349 0 0 1 8.344 16C3.734 16 0 12.286 0 7.71 0 4.266 2.114 1.312 5.124.06A.752.752 0 0 1 6 .278z\"></path><path d=\"M10.794 3.148a.217.217 0 0 1 .412 0l.387 1.162c.173.518.579.924 1.097 1.097l1.162.387a.217.217 0 0 1 0 .412l-1.162.387a1.734 1.734 0 0 0-1.097 1.097l-.387 1.162a.217.217 0 0 1-.412 0l-.387-1.162A1.734 1.734 0 0 0 9.31 6.593l-1.162-.387a.217.217 0 0 1 0-.412l1.162-.387a1.734 1.734 0 0 0 1.097-1.097l.387-1.162zM13.863.099a.145.145 0 0 1 .274 0l.258.774c.115.346.386.617.732.732l.774.258a.145.145 0 0 1 0 .274l-.774.258a1.156 1.156 0 0 0-.732.732l-.258.774a.145.145 0 0 1-.274 0l-.258-.774a1.156 1.156 0 0 0-.732-.732l-.774-.258a.145.145 0 0 1 0-.274l.774-.258c.346-.115.617-.386.732-.732L13.863.1z\"></path></svg><button class=\"md:hidden text-white bg-purple-700 hover:bg-purple-800 focus:ring-4 focus:ring-purple-300 font-medium rounded-lg text-sm px-3 py-2 text-center inline-flex items-center mx-1 absolute right-3 md:right-12\">Login</button><div class=\"w-full flex-grow lg:flex lg:flex-1 lg:content-center lg:justify-end lg:w-auto h-0 lg:h-auto overflow-hidden mt-2 lg:mt-0 z-20 transition-all\" id=\"nav-content\"><ul class=\"flex items-center flex-col lg:flex-row\"><div id=\"search-toggle\" class=\"search-icon cursor-pointer px-6 hidden\"><svg class=\"fill-current pointer-events-none text-grey-darkest w-4 h-4 inline\" xmlns=\"http://www.w3.org/2000/svg\" viewBox=\"0 0 20 20\"><path d=\"M12.9 14.32a8 8 0 1 1 1.41-1.41l5.35 5.33-1.42 1.42-5.33-5.34zM8 14A6 6 0 1 0 8 2a6 6 0 0 0 0 12z\"></path></svg></div><li class=\"mx-2 my-2 text-black hover:border-b-2 hover:border-purple-700 dark:text-white\"><a href=\"/\">Home</a></li><li class=\"mx-2 my-2 text-black hover:border-b-2 hover:border-purple-700 dark:text-white\"><a href=\"/videos/\">Courses</a></li><li class=\"mx-2 my-2 text-black hover:border-b-2 hover:border-purple-700 dark:text-white\"><a href=\"/tutorials/\">Tutorial</a></li><li class=\"mx-2 my-2 text-black hover:border-b-2 hover:border-purple-700 dark:text-white\"><a href=\"/blog/\">Blog</a></li><li class=\"mx-2 my-2 text-black hover:border-b-2 hover:border-purple-700 dark:text-white\"><a href=\"/notes/\">Notes</a></li><li class=\"mx-2 my-2 text-black hover:border-b-2 hover:border-purple-700 dark:text-white\"><a href=\"/contact/\">Contact</a></li><li class=\"mx-2 my-2 text-black hover:border-b-2 hover:border-purple-700 dark:text-white\"><a href=\"/my-gear/\">My Gear</a></li><li class=\"mx-2 my-2 text-black hover:border-b-2 hover:border-purple-700 dark:text-white\"><a href=\"/work/\">Work With Us</a></li><li><svg stroke=\"currentColor\" fill=\"currentColor\" stroke-width=\"0\" viewBox=\"0 0 16 16\" class=\"hidden md:block text-purple-700 mt-1 ml-2 cursor-pointer dark:text-white\" height=\"28\" width=\"28\" xmlns=\"http://www.w3.org/2000/svg\"><path d=\"M6 .278a.768.768 0 0 1 .08.858 7.208 7.208 0 0 0-.878 3.46c0 4.021 3.278 7.277 7.318 7.277.527 0 1.04-.055 1.533-.16a.787.787 0 0 1 .81.316.733.733 0 0 1-.031.893A8.349 8.349 0 0 1 8.344 16C3.734 16 0 12.286 0 7.71 0 4.266 2.114 1.312 5.124.06A.752.752 0 0 1 6 .278z\"></path><path d=\"M10.794 3.148a.217.217 0 0 1 .412 0l.387 1.162c.173.518.579.924 1.097 1.097l1.162.387a.217.217 0 0 1 0 .412l-1.162.387a1.734 1.734 0 0 0-1.097 1.097l-.387 1.162a.217.217 0 0 1-.412 0l-.387-1.162A1.734 1.734 0 0 0 9.31 6.593l-1.162-.387a.217.217 0 0 1 0-.412l1.162-.387a1.734 1.734 0 0 0 1.097-1.097l.387-1.162zM13.863.099a.145.145 0 0 1 .274 0l.258.774c.115.346.386.617.732.732l.774.258a.145.145 0 0 1 0 .274l-.774.258a1.156 1.156 0 0 0-.732.732l-.258.774a.145.145 0 0 1-.274 0l-.258-.774a1.156 1.156 0 0 0-.732-.732l-.774-.258a.145.145 0 0 1 0-.274l.774-.258c.346-.115.617-.386.732-.732L13.863.1z\"></path></svg></li></ul><div class=\"text-center my-2 pr-4 pl-2\"><button class=\"text-white bg-purple-700 hover:bg-purple-800 focus:ring-4 focus:ring-purple-300 font-medium rounded-lg text-sm px-3 py-2 text-center inline-flex items-center mx-1 dark:bg-purple-500 dark:hover:bg-purple-800\">Login</button><button class=\"text-white bg-purple-700 hover:bg-purple-800 focus:ring-4 focus:ring-purple-300 font-medium rounded-lg text-sm px-3 py-2 text-center inline-flex items-center mx-1 dark:bg-purple-500 dark:hover:bg-purple-800\">Signup</button></div></div></div><hr class=\"dark:border-gray-500\"/><div class=\"max-h-[6vh] min-h-[40px] flex items-center ml-3 mr-3 md:ml-10 md:mr-10 my-1\"><span><svg stroke=\"currentColor\" fill=\"currentColor\" stroke-width=\"0\" viewBox=\"0 0 1024 1024\" class=\"text-purple-700 text-xl cursor-pointer dark:text-purple-300\" height=\"1em\" width=\"1em\" xmlns=\"http://www.w3.org/2000/svg\"><path d=\"M946.5 505L534.6 93.4a31.93 31.93 0 0 0-45.2 0L77.5 505c-12 12-18.8 28.3-18.8 45.3 0 35.3 28.7 64 64 64h43.4V908c0 17.7 14.3 32 32 32H448V716h112v224h265.9c17.7 0 32-14.3 32-32V614.3h43.4c17 0 33.3-6.7 45.3-18.8 24.9-25 24.9-65.5-.1-90.5z\"></path></svg></span><ul class=\"space-x-7 m-auto text-purple-700 font-semibold hidden md:flex items-center\"><li class=\"cursor-pointer hover:border-b-2 hover:border-purple-700 active:border-b-4 dark:text-purple-300\"><a href=\"/tutorial/html-home/\">HTML</a></li><li class=\"cursor-pointer hover:border-b-2 hover:border-purple-700 active:border-b-4 dark:text-purple-300\"><a href=\"/tutorial/css-home/\">CSS</a></li><li class=\"cursor-pointer hover:border-b-2 hover:border-purple-700 active:border-b-4 dark:text-purple-300\"><a href=\"/tutorial/js/\">JS</a></li><li class=\"cursor-pointer hover:border-b-2 hover:border-purple-700 active:border-b-4 dark:text-purple-300\"><a href=\"/tutorial/c/\">C</a></li><li class=\"cursor-pointer hover:border-b-2 hover:border-purple-700 active:border-b-4 dark:text-purple-300\"><a href=\"/tutorial/cplusplus/\">C++</a></li><li class=\"cursor-pointer hover:border-b-2 hover:border-purple-700 active:border-b-4 dark:text-purple-300\"><a href=\"/tutorial/java/\">JAVA</a></li><li class=\"cursor-pointer hover:border-b-2 hover:border-purple-700 active:border-b-4 dark:text-purple-300\"><a href=\"/tutorial/python/\">PYTHON</a></li><li class=\"cursor-pointer hover:border-b-2 hover:border-purple-700 active:border-b-4 dark:text-purple-300\"><a href=\"/tutorial/php/\">PHP</a></li><li class=\"cursor-pointer hover:border-b-2 hover:border-purple-700 active:border-b-4 dark:text-purple-300\"><a href=\"/tutorial/react-home/\">REACT JS</a></li></ul><input id=\"search\" class=\"hidden right-10 md:right-10 absolute w-48 md:w-60 h-8 bg-white rounded border-2 border-purple-500 focus:border-purple-700 focus:ring-2 focus:ring-indigo-200 text-base outline-none text-gray-700 py-1 px-3 leading-8 transition-colors duration-200 ease-in-out dark:bg-gray-500 dark:text-gray-200 \" placeholder=\"Search...\"/><svg stroke=\"currentColor\" fill=\"currentColor\" stroke-width=\"0\" viewBox=\"0 0 1024 1024\" class=\"text-purple-700 dark:text-purple-300 cursor-pointer text-2xl absolute right-3 md:right-12 }\" height=\"1em\" width=\"1em\" xmlns=\"http://www.w3.org/2000/svg\"><path d=\"M909.6 854.5L649.9 594.8C690.2 542.7 712 479 712 412c0-80.2-31.3-155.4-87.9-212.1-56.6-56.7-132-87.9-212.1-87.9s-155.5 31.3-212.1 87.9C143.2 256.5 112 331.8 112 412c0 80.1 31.3 155.5 87.9 212.1C256.5 680.8 331.8 712 412 712c67 0 130.6-21.8 182.7-62l259.7 259.6a8.2 8.2 0 0 0 11.6 0l43.6-43.5a8.2 8.2 0 0 0 0-11.6zM570.4 570.4C528 612.7 471.8 636 412 636s-116-23.3-158.4-65.6C211.3 528 188 471.8 188 412s23.3-116.1 65.6-158.4C296 211.3 352.2 188 412 188s116.1 23.2 158.4 65.6S636 352.2 636 412s-23.3 116.1-65.6 158.4z\"></path></svg></div><div class=\"bg-purple-100 text-center shadow-lg absolute w-full dark:bg-gray-600 hidden mt-1 md:hidden\"><ul><li class=\"pt-4 text-purple-500 font-bold\"><a href=\"/\">Home</a></li><li class=\"pt-4 text-purple-500 font-bold\"><a href=\"/videos/\">Courses</a></li><li class=\"pt-4 text-purple-500 font-bold flex justify-center ml-3\">Tutorial <!-- --><svg stroke=\"currentColor\" fill=\"currentColor\" stroke-width=\"0\" viewBox=\"0 0 1024 1024\" class=\"mt-1\" height=\"1em\" width=\"1em\" xmlns=\"http://www.w3.org/2000/svg\"><path d=\"M840.4 300H183.6c-19.7 0-30.7 20.8-18.5 35l328.4 380.8c9.4 10.9 27.5 10.9 37 0L858.9 335c12.2-14.2 1.2-35-18.5-35z\"></path></svg></li><li class=\"my-2 text-purple-500 font-semibold text-sm bg-purple-200 dark:bg-gray-700  hidden\"><ul><li class=\"cursor-pointer py-1 border-y-2 dark:border-gray-400\"><a href=\"/tutorial/html-home/\">HTML</a></li><li class=\"cursor-pointer py-1 border-b-2 dark:border-gray-400\"><a href=\"/tutorial/css-home/\">CSS</a></li><li class=\"cursor-pointer py-1 border-b-2 dark:border-gray-400\"><a href=\"/tutorial/js/\">JS</a></li><li class=\"cursor-pointer py-1 border-b-2 dark:border-gray-400\"><a href=\"/tutorial/c/\">C</a></li><li class=\"cursor-pointer py-1 border-b-2 dark:border-gray-400\"><a href=\"/tutorial/cplusplus/\">C++</a></li><li class=\"cursor-pointer py-1 border-b-2 dark:border-gray-400\"><a href=\"/tutorial/java/\">JAVA</a></li><li class=\"cursor-pointer py-1 border-b-2 dark:border-gray-400\"><a href=\"/tutorial/python/\">PYTHON</a></li><li class=\"cursor-pointer py-1 border-b-2 dark:border-gray-400\"><a href=\"/tutorial/php/\">PHP</a></li><li class=\"cursor-pointer py-1 border-b-2 dark:border-gray-400\"><a href=\"/tutorial/react-home/\">REACT JS</a></li></ul></li><li class=\"pt-4 text-purple-500 font-bold\"><a href=\"/blog/\">Blog</a></li><li class=\"pt-4 text-purple-500 font-bold\"><a href=\"/notes/\">Notes</a></li><li class=\"pt-4 text-purple-500 font-bold\"><a href=\"/contact/\">Contact</a></li><li class=\"pt-4 text-purple-500 font-bold\"><a href=\"/my-gear/\">My Gear</a></li><li class=\"pt-4 pb-4 text-purple-500 font-bold\"><a href=\"/work/\">Work With Us</a></li></ul></div></div><div class=\"Toastify\"></div><div class=\"dark:bg-gray-900\"><div class=\"py-0 md:mx-2\" id=\"imgpreview\"><div class=\"lg:min-h-screen bg-gray-50 dark:bg-gray-900\"><div class=\"dark:bg-gray-900 min-h-screen md:px-4 \"><div class=\"bg-gray-50 dark:bg-gray-900 min-h-screen p-4 lg:p-12\"><div class=\"max-w-screen-lg mx-auto bg-white dark:bg-gray-800 rounded-lg shadow-md p-6 lg:p-10\"><h1 class=\"text-center text-xl md:text-3xl justify-center lg:text-4xl font-semibold text-gray-800 dark:text-white mb-1 flex\">A Comprehensive Guide to Using Stackry for International Shopping<!-- --></h1><div class=\"flex items-center mb-6 flex-col md:flex-row md:justify-center\"><div class=\"image flex justify-center items-center\"><div class=\"h-8 w-8 overflow-hidden rounded-full\"><a href=\"https://www.codewithharry.com/\" class=\"block w-full h-full\"><img alt=\"Haris Ali Khan&#x27;s photo\" src=\"https://www.codewithharry.com/img/logo-blue.png\" class=\"w-full h-full object-cover\"/></a></div><a href=\"https://www.codewithharry.com/\" class=\"text-sm text-slate-900 dark:text-white hover:text-purple-700 transition ease-in-out duration-150 mx-2\">Haris Ali Khan</a></div><div class=\"rest flex mt-3 md:mt-0\"><span class=\"mx-1 hidden font-bold dark:text-gray-400 text-slate-500 md:block\">·</span><span class=\"text-sm dark:text-gray-400 text-gray-500 mx-2\"> <!-- -->November 20, 2023<!-- --></span><span class=\"mx-1 hidden font-bold dark:text-gray-400 text-slate-500 md:block\">·</span><span class=\"text-sm dark:text-gray-400 text-gray-500 flex mx-2\"> <!-- --><svg class=\"mr-2 h-5 w-5 fill-current opacity-75\" viewBox=\"0 0 576 512\"><path d=\"M540.9 56.77c-45.95-16.66-90.23-24.09-129.1-24.75-60.7.94-102.7 17.45-123.8 27.72-21.1-10.27-64.1-26.8-123.2-27.74-40-.05-84.4 8.35-129.7 24.77C14.18 64.33 0 84.41 0 106.7v302.9c0 14.66 6.875 28.06 18.89 36.8 11.81 8.531 26.64 10.98 40.73 6.781 118.9-36.34 209.3 19.05 214.3 22.19C277.8 477.6 281.2 480 287.1 480c6.52 0 10.12-2.373 14.07-4.578 10.78-6.688 98.3-57.66 214.3-22.27 14.11 4.25 28.86 1.75 40.75-6.812C569.1 437.6 576 424.2 576 409.6V106.7c0-22.28-14.2-42.35-35.1-49.93zM272 438.1c-24.95-12.03-71.01-29.37-130.5-29.37-27.83 0-58.5 3.812-91.19 13.77-4.406 1.344-9 .594-12.69-2.047C34.02 417.8 32 413.1 32 409.6V106.7c0-8.859 5.562-16.83 13.86-19.83C87.66 71.7 127.9 63.95 164.5 64c51.8.81 89.7 15.26 107.5 23.66V438.1zm272-28.5c0 4.375-2.016 8.234-5.594 10.84-3.766 2.703-8.297 3.422-12.69 2.125C424.1 391.6 341.3 420.4 304 438.3V87.66c17.8-8.4 55.7-22.85 107.4-23.66 35.31-.063 76.34 7.484 118.8 22.88 8.2 3 13.8 10.96 13.8 19.82v302.9z\"></path></svg>3<!-- --> min read<!-- --></span> <!-- --></div></div><div class=\"cont   leading-relaxed text-dark dark:text-gray-100\"></div></div></div></div><div class=\"flex items-center justify-center mt-2 mb-7 w-full max-w-5xl mx-auto rounded-lg dark:border-black\"><form class=\"w-full bg-white shadow-xl mx-4 md:mx-16 lg:mx-0 mb-4 rounded-lg px-4 pt-2 dark:bg-slate-700\"><div class=\"flex flex-wrap -mx-3 mb-6\"><h2 class=\"px-4 pt-3 pb-2 text-gray-800 text-lg lg:text-xl font-bold my-4 dark:text-gray-300\">Add a new comment</h2><div class=\"w-full md:w-full px-3 mb-2 mt-2\"><textarea class=\"bg-gray-100 rounded border border-gray-400 leading-normal resize-none w-full h-20 py-2 px-3 font-medium placeholder-gray-700 focus:outline-none focus:bg-white dark:bg-slate-600 dark:text-gray-200 dark:placeholder-gray-400\" name=\"comment\" placeholder=\"Type Your Comment\" required=\"\"></textarea></div><div class=\"w-full md:w-full flex items-start px-3\"><div class=\"-mr-1\"><input type=\"submit\" class=\"disabled:bg-gray-200 disabled:text-gray-400 disabled:cursor-default text-white bg-purple-700 hover:bg-purple-800 focus:ring-4 focus:ring-purple-300 font-medium rounded-lg text-sm px-3 py-2 text-center inline-flex items-center mx-1 cursor-pointer \" value=\"Post Comment\"/></div></div></div></form></div><div class=\"max-w-5xl mx-auto pt-4 pb-8\"></div></div></div></div><footer class=\"text-gray-600 bg-white body-font dark:bg-gray-800 dark:text-white \"><div class=\"container mx-auto py-4 px-5 flex flex-wrap flex-col sm:flex-row\"><div class=\"flex title-font font-medium items-center md:justify-start justify-center text-gray-900 dark:text-gray-200\"><img width=\"48\" height=\"48\" src=\"/img/logo-blue.png\" name=\"logo\" alt=\"CodeWithHarry Logo\" class=\"rounded h-12\"/><div class=\"ml-3 text-xl\">CodeWithHarry</div></div><p class=\"text-sm text-gray-500 sm:ml-4 sm:pl-4 sm:border-l-2 sm:border-gray-200 sm:py-2 mt-4 md:mt-2 mb-2 md:mb-0 text-center dark:text-gray-400\">Copyright © <!-- -->2024<!-- --> CodeWithHarry.com<!-- --></p><div class=\"inline-flex sm:ml-auto sm:mt-0 mt-2 justify-center sm:justify-start\" style=\"align-items:center\"><a href=\"https://www.facebook.com/codewithharry\" aria-label=\"facebook\" target=\"_blank\" rel=\"noreferrer\" class=\"text-gray-500 dark:text-gray-300\"><svg fill=\"currentColor\" stroke-linecap=\"round\" stroke-linejoin=\"round\" stroke-width=\"2\" class=\"w-5 h-5\" viewBox=\"0 0 24 24\"><path d=\"M18 2h-3a5 5 0 00-5 5v3H7v4h3v8h4v-8h3l1-4h-4V7a1 1 0 011-1h3z\"></path></svg></a><a href=\"https://www.twitter.com/codewithharry\" aria-label=\"twitter\" target=\"_blank\" rel=\"noreferrer\" class=\"ml-3 text-gray-500 dark:text-gray-300\"><svg fill=\"currentColor\" stroke-linecap=\"round\" stroke-linejoin=\"round\" stroke-width=\"2\" class=\"w-5 h-5\" viewBox=\"0 0 24 24\"><path d=\"M23 3a10.9 10.9 0 01-3.14 1.53 4.48 4.48 0 00-7.86 3v1A10.66 10.66 0 013 4s-4 9 5 13a11.64 11.64 0 01-7 2c9 5 20 0 20-11.5a4.5 4.5 0 00-.08-.83A7.72 7.72 0 0023 3z\"></path></svg></a><a href=\"https://www.instagram.com/codewithharry\" aria-label=\"instagram\" target=\"_blank\" rel=\"noreferrer\" class=\"ml-3 text-gray-500 dark:text-gray-300\"><svg fill=\"none\" stroke=\"currentColor\" stroke-linecap=\"round\" stroke-linejoin=\"round\" stroke-width=\"2\" class=\"w-5 h-5\" viewBox=\"0 0 24 24\"><rect width=\"20\" height=\"20\" x=\"2\" y=\"2\" rx=\"5\" ry=\"5\"></rect><path d=\"M16 11.37A4 4 0 1112.63 8 4 4 0 0116 11.37zm1.5-4.87h.01\"></path></svg></a><a href=\"https://www.github.com/codewithharry\" aria-label=\"github\" target=\"_blank\" rel=\"noreferrer\" class=\"ml-3 text-gray-500 dark:text-gray-300\"><svg stroke=\"currentColor\" fill=\"currentColor\" stroke-width=\"0\" viewBox=\"0 0 1024 1024\" class=\"text-xl\" height=\"1em\" width=\"1em\" xmlns=\"http://www.w3.org/2000/svg\"><path d=\"M511.6 76.3C264.3 76.2 64 276.4 64 523.5 64 718.9 189.3 885 363.8 946c23.5 5.9 19.9-10.8 19.9-22.2v-77.5c-135.7 15.9-141.2-73.9-150.3-88.9C215 726 171.5 718 184.5 703c30.9-15.9 62.4 4 98.9 57.9 26.4 39.1 77.9 32.5 104 26 5.7-23.5 17.9-44.5 34.7-60.8-140.6-25.2-199.2-111-199.2-213 0-49.5 16.3-95 48.3-131.7-20.4-60.5 1.9-112.3 4.9-120 58.1-5.2 118.5 41.6 123.2 45.3 33-8.9 70.7-13.6 112.9-13.6 42.4 0 80.2 4.9 113.5 13.9 11.3-8.6 67.3-48.8 121.3-43.9 2.9 7.7 24.7 58.3 5.5 118 32.4 36.8 48.9 82.7 48.9 132.3 0 102.2-59 188.1-200 212.9a127.5 127.5 0 0 1 38.1 91v112.5c.8 9 0 17.9 15 17.9 177.1-59.7 304.6-227 304.6-424.1 0-247.2-200.4-447.3-447.5-447.3z\"></path></svg></a></div></div></footer></div></div><script id=\"__NEXT_DATA__\" type=\"application/json\">{\"props\":{\"pageProps\":{\"blog\":{\"_id\":\"655b7ba5f717c2b9e2e0f8ca\",\"title\":\"A Comprehensive Guide to Using Stackry for International Shopping\",\"image\":\"\",\"content\":\"\\u003cp\\u003eIn today's interconnected world, the desire for cutting-edge tech gadgets, unique international products, and exclusive US deals has reached an unprecedented level. However, many consumers face the challenge of obtaining products not readily available in their home country. This is where Stackry emerges as a revolutionary solution, simplifying the process of ordering from the US and having it shipped effortlessly to India.\\u003c/p\\u003e\\n\\u003ch2\\u003eHow Stackry Bridges the Gap\\u003c/h2\\u003e\\n\\u003cp\\u003e\\u003ca href=\\\"https://www.stackry.com/en\\\" target=\\\"_blank\\\" rel=\\\"noopener\\\"\\u003eStackry \\u003c/a\\u003eacts as a bridge between Indian consumers and US retailers, enabling users to shop from any US store, including giants like Amazon. The process is remarkably straightforward:\\u003c/p\\u003e\\n\\u003col start=\\\"1\\\" type=\\\"1\\\"\\u003e\\n\\u003cli\\u003eCreate an Account: Begin by creating an account on the \\u003ca href=\\\"https://www.stackry.com/en\\\" target=\\\"_blank\\\" rel=\\\"noopener\\\"\\u003eStackry website\\u003c/a\\u003e. Provide the necessary information, and you're ready to embark on your international shopping adventure.\\u003c/li\\u003e\\n\\u003cli\\u003eVirtual US Address: Stackry assigns users a unique virtual US address. This address serves as a secure location where your physical shipments will be stored.\\u003c/li\\u003e\\n\\u003cli\\u003eShop from Any US Retailer: Whether you're a programmer seeking the latest graphics cards, a PC enthusiast looking for cutting-edge components, or simply someone seeking specific items from the US, Stackry empowers you to shop from your favorite US retailers.\\u003c/li\\u003e\\n\\u003cli\\u003eFree 45-Day Storage: Stackry offers a generous 45-day locker service where you can store your packages without any charge. During this period, you can consolidate your purchases and create a cart, ensuring you get the most out of your international shopping spree.\\u003c/li\\u003e\\n\\u003cli\\u003eOrder to India: Once you've accumulated your desired items in the locker, you can order them as a single package to be delivered directly to your address in India. Stackery provides the flexibility to choose your preferred shipping speed, offering options for both cost-effective and expedited deliveries.\\u003c/li\\u003e\\n\\u003c/ol\\u003e\\n\\u003ch2\\u003eBenefits of Stackry\\u003c/h2\\u003e\\n\\u003cp\\u003eStackry\\u0026rsquo;s appeal extends beyond its seamless shopping process. It presents a host of advantages that make it a compelling choice for international shoppers:\\u003c/p\\u003e\\n\\u003col start=\\\"1\\\" type=\\\"1\\\"\\u003e\\n\\u003cli\\u003eCost Savings: By shopping within the US and consolidating your shipments, you can significantly reduce shipping costs, making your international purchases more affordable.\\u003c/li\\u003e\\n\\u003cli\\u003eTransparency and Control: Stackry empowers users to declare the value of their shipments, providing transparency and control over customs duties and taxes.\\u003c/li\\u003e\\n\\u003cli\\u003eTrusted Service: Stackry is a well-established and trusted company in the US, alleviating concerns about the reliability of the service. Its reputation and expertise ensure your international shopping experience is smooth and secure.\\u003c/li\\u003e\\n\\u003cli\\u003eAccess to US Sales and Discounts: Take advantage of US sales events like Black Friday and Cyber Monday, and apply Stackry discounts to enhance your savings. With Stackry, you can enjoy the same deals as American consumers.\\u003c/li\\u003e\\n\\u003cli\\u003eDirect from Manufacturer: Ordering directly from the US allows you to receive products directly from the manufacturer, ensuring authenticity, quality, and the latest product versions.\\u003c/li\\u003e\\n\\u003c/ol\\u003e\\n\\u003ch2\\u003eConclusion\\u003c/h2\\u003e\\n\\u003cp\\u003eStackry revolutionizes the concept of international shopping, addressing common challenges faced by tech enthusiasts and consumers worldwide. Whether you're seeking specific tech gadgets, hardware components, or simply want to explore the world of US sales and discounts, Stackery provides a convenient, cost-effective, and secure solution. Consider trying Stackery for your next international purchase and unlock a world of possibilities in the realm of hassle-free cross-border shopping.\\u003c/p\\u003e\",\"slug\":\"stackery-international-shopping-guide-india\",\"metadesc\":\"In today's interconnected world, the desire for cutting-edge tech gadgets, unique international products, and exclusive US deals has reached an unprecedented level. However, many consumers face the challenge of obtaining products not readily available in their home country. This is where Stackry emerges as a revolutionary solution, simplifying the process of ordering from the US and having it shipped effortlessly to India.\",\"is_published\":true,\"createdAt\":\"2023-11-20T15:30:45.813Z\",\"updatedAt\":\"2023-11-20T15:34:54.191Z\",\"__v\":0,\"formattedCreatedAt\":\"November 20, 2023\"},\"_sentryTraceData\":\"f19e09f4ea0945bf90e4bc55df7dd373-923e937dc5697814-1\",\"_sentryBaggage\":\"sentry-environment=production,sentry-release=v1SLuCOVtvY7sXWsC5M4x,sentry-public_key=c319afcdb871104371fda78a10f7427b,sentry-trace_id=f19e09f4ea0945bf90e4bc55df7dd373,sentry-sample_rate=1,sentry-transaction=%2Fblogpost%2F%5Bslug%5D,sentry-sampled=true\"},\"__N_SSP\":true},\"page\":\"/blogpost/[slug]\",\"query\":{\"slug\":\"stackery-international-shopping-guide-india\"},\"buildId\":\"v1SLuCOVtvY7sXWsC5M4x\",\"isFallback\":false,\"gssp\":true,\"scriptLoader\":[]}</script></body></html>\n"
          ]
        }
      ]
    },
    {
      "cell_type": "code",
      "source": [
        "import bs4"
      ],
      "metadata": {
        "id": "233uFmALpA_i"
      },
      "execution_count": 7,
      "outputs": []
    },
    {
      "cell_type": "code",
      "source": [
        "soup=bs4.BeautifulSoup(response.text,\"html.parser\")\n",
        "print(soup.prettify())"
      ],
      "metadata": {
        "colab": {
          "base_uri": "https://localhost:8080/"
        },
        "collapsed": true,
        "id": "Eo4GfhVhpfo9",
        "outputId": "be88cc60-3342-4da5-c2b6-07ec7023a9d7"
      },
      "execution_count": 8,
      "outputs": [
        {
          "output_type": "stream",
          "name": "stdout",
          "text": [
            "<!DOCTYPE html>\n",
            "<html>\n",
            " <head>\n",
            "  <meta charset=\"utf-8\"/>\n",
            "  <link data-href=\"https://fonts.googleapis.com/css2?family=Poppins:wght@300;400;500;600&amp;display=swap\" data-optimized-fonts=\"true\" rel=\"stylesheet\"/>\n",
            "  <link href=\"/img/favicon.ico\" rel=\"shortcut icon\" type=\"image/x-icon\"/>\n",
            "  <meta content=\"width=device-width, initial-scale=1\" name=\"viewport\"/>\n",
            "  <script async=\"\" crossorigin=\"anonymous\" src=\"https://pagead2.googlesyndication.com/pagead/js/adsbygoogle.js?client=ca-pub-9655830461045889\">\n",
            "  </script>\n",
            "  <title>\n",
            "   A Comprehensive Guide to Using Stackry for International Shopping | CodeWithHarry\n",
            "  </title>\n",
            "  <meta content=\"In today's interconnected world, the desire for cutting-edge tech gadgets, unique international products, and exclusive US deals has reached an unprecedented level. However, many consumers face the challenge of obtaining products not readily available in their home country. This is where Stackry emerges as a revolutionary solution, simplifying the process of ordering from the US and having it shipped effortlessly to India.\" name=\"description\"/>\n",
            "  <link href=\"/img/favicon.ico\" rel=\"icon\"/>\n",
            "  <meta content=\"8\" name=\"next-head-count\"/>\n",
            "  <meta name=\"next-font-preconnect\"/>\n",
            "  <link as=\"style\" href=\"/_next/static/css/0b23b768aef814b7.css\" rel=\"preload\"/>\n",
            "  <link data-n-g=\"\" href=\"/_next/static/css/0b23b768aef814b7.css\" rel=\"stylesheet\"/>\n",
            "  <link as=\"style\" href=\"/_next/static/css/acfb09ebbb3d60e2.css\" rel=\"preload\"/>\n",
            "  <link data-n-p=\"\" href=\"/_next/static/css/acfb09ebbb3d60e2.css\" rel=\"stylesheet\"/>\n",
            "  <noscript data-n-css=\"\">\n",
            "  </noscript>\n",
            "  <script defer=\"\" nomodule=\"\" src=\"/_next/static/chunks/polyfills-5cd94c89d3acac5f.js\">\n",
            "  </script>\n",
            "  <script defer=\"\" src=\"/_next/static/chunks/webpack-f29ef11eacbe415c.js\">\n",
            "  </script>\n",
            "  <script defer=\"\" src=\"/_next/static/chunks/framework-a87821de553db91d.js\">\n",
            "  </script>\n",
            "  <script defer=\"\" src=\"/_next/static/chunks/main-88408dc6daaaadd3.js\">\n",
            "  </script>\n",
            "  <script defer=\"\" src=\"/_next/static/chunks/pages/_app-375010ace881d319.js\">\n",
            "  </script>\n",
            "  <script defer=\"\" src=\"/_next/static/chunks/d64684d8-3958bddc559b53cd.js\">\n",
            "  </script>\n",
            "  <script defer=\"\" src=\"/_next/static/chunks/252f366e-ac7ed35b4498d11b.js\">\n",
            "  </script>\n",
            "  <script defer=\"\" src=\"/_next/static/chunks/926-fe9092953113c7d9.js\">\n",
            "  </script>\n",
            "  <script defer=\"\" src=\"/_next/static/chunks/pages/blogpost/%5Bslug%5D-949fe34deac544bd.js\">\n",
            "  </script>\n",
            "  <script defer=\"\" src=\"/_next/static/v1SLuCOVtvY7sXWsC5M4x/_buildManifest.js\">\n",
            "  </script>\n",
            "  <script defer=\"\" src=\"/_next/static/v1SLuCOVtvY7sXWsC5M4x/_ssgManifest.js\">\n",
            "  </script>\n",
            "  <script defer=\"\" src=\"/_next/static/v1SLuCOVtvY7sXWsC5M4x/_middlewareManifest.js\">\n",
            "  </script>\n",
            " </head>\n",
            " <body>\n",
            "  <div id=\"__next\">\n",
            "   <div class=\"\">\n",
            "    <div class=\"\" style=\"position:fixed;top:0;left:0;height:2px;background:transparent;z-index:99999999999;width:100%\">\n",
            "     <div class=\"\" style=\"height:100%;background:purple;transition:all 500ms ease;width:0%\">\n",
            "      <div style=\"box-shadow:0 0 10px purple, 0 0 10px purple;width:5%;opacity:1;position:absolute;height:100%;transition:all 500ms ease;transform:rotate(3deg) translate(0px, -4px);left:-10rem\">\n",
            "      </div>\n",
            "     </div>\n",
            "    </div>\n",
            "    <div class=\"w-full z-10 sticky bg-white top-0 border-b border-grey-light shadow-md dark:bg-gray-800 dark:border-black\" id=\"imgpreview2\">\n",
            "     <div class=\"w-full flex flex-wrap items-center lg:justify-between mt-0 py-4\">\n",
            "      <div class=\"px-0 lg:pl-4 flex items-center lg:mx-4 cursor-pointer text-purple-700 text-md md:text-xl font-bold mx-3 dark:text-purple-300\">\n",
            "       <span>\n",
            "        <b class=\"font-bold\">\n",
            "         &lt;/&gt;\n",
            "        </b>\n",
            "        CodeWithHarry\n",
            "        <!-- -->\n",
            "       </span>\n",
            "      </div>\n",
            "      <div class=\"flex items-center md:hidden\">\n",
            "       <div class=\"text-purple-700 text-md font-semibold\">\n",
            "        Menu\n",
            "       </div>\n",
            "       <svg class=\"text-purple-700 mt-1\" fill=\"currentColor\" height=\"1em\" stroke=\"currentColor\" stroke-width=\"0\" viewbox=\"0 0 1024 1024\" width=\"1em\" xmlns=\"http://www.w3.org/2000/svg\">\n",
            "        <path d=\"M840.4 300H183.6c-19.7 0-30.7 20.8-18.5 35l328.4 380.8c9.4 10.9 27.5 10.9 37 0L858.9 335c12.2-14.2 1.2-35-18.5-35z\">\n",
            "        </path>\n",
            "       </svg>\n",
            "      </div>\n",
            "      <svg class=\"md:hidden w-4 text-purple-700 mt-1 ml-2 cursor-pointer dark:text-white\" fill=\"currentColor\" height=\"28\" stroke=\"currentColor\" stroke-width=\"0\" viewbox=\"0 0 16 16\" width=\"28\" xmlns=\"http://www.w3.org/2000/svg\">\n",
            "       <path d=\"M6 .278a.768.768 0 0 1 .08.858 7.208 7.208 0 0 0-.878 3.46c0 4.021 3.278 7.277 7.318 7.277.527 0 1.04-.055 1.533-.16a.787.787 0 0 1 .81.316.733.733 0 0 1-.031.893A8.349 8.349 0 0 1 8.344 16C3.734 16 0 12.286 0 7.71 0 4.266 2.114 1.312 5.124.06A.752.752 0 0 1 6 .278z\">\n",
            "       </path>\n",
            "       <path d=\"M10.794 3.148a.217.217 0 0 1 .412 0l.387 1.162c.173.518.579.924 1.097 1.097l1.162.387a.217.217 0 0 1 0 .412l-1.162.387a1.734 1.734 0 0 0-1.097 1.097l-.387 1.162a.217.217 0 0 1-.412 0l-.387-1.162A1.734 1.734 0 0 0 9.31 6.593l-1.162-.387a.217.217 0 0 1 0-.412l1.162-.387a1.734 1.734 0 0 0 1.097-1.097l.387-1.162zM13.863.099a.145.145 0 0 1 .274 0l.258.774c.115.346.386.617.732.732l.774.258a.145.145 0 0 1 0 .274l-.774.258a1.156 1.156 0 0 0-.732.732l-.258.774a.145.145 0 0 1-.274 0l-.258-.774a1.156 1.156 0 0 0-.732-.732l-.774-.258a.145.145 0 0 1 0-.274l.774-.258c.346-.115.617-.386.732-.732L13.863.1z\">\n",
            "       </path>\n",
            "      </svg>\n",
            "      <button class=\"md:hidden text-white bg-purple-700 hover:bg-purple-800 focus:ring-4 focus:ring-purple-300 font-medium rounded-lg text-sm px-3 py-2 text-center inline-flex items-center mx-1 absolute right-3 md:right-12\">\n",
            "       Login\n",
            "      </button>\n",
            "      <div class=\"w-full flex-grow lg:flex lg:flex-1 lg:content-center lg:justify-end lg:w-auto h-0 lg:h-auto overflow-hidden mt-2 lg:mt-0 z-20 transition-all\" id=\"nav-content\">\n",
            "       <ul class=\"flex items-center flex-col lg:flex-row\">\n",
            "        <div class=\"search-icon cursor-pointer px-6 hidden\" id=\"search-toggle\">\n",
            "         <svg class=\"fill-current pointer-events-none text-grey-darkest w-4 h-4 inline\" viewbox=\"0 0 20 20\" xmlns=\"http://www.w3.org/2000/svg\">\n",
            "          <path d=\"M12.9 14.32a8 8 0 1 1 1.41-1.41l5.35 5.33-1.42 1.42-5.33-5.34zM8 14A6 6 0 1 0 8 2a6 6 0 0 0 0 12z\">\n",
            "          </path>\n",
            "         </svg>\n",
            "        </div>\n",
            "        <li class=\"mx-2 my-2 text-black hover:border-b-2 hover:border-purple-700 dark:text-white\">\n",
            "         <a href=\"/\">\n",
            "          Home\n",
            "         </a>\n",
            "        </li>\n",
            "        <li class=\"mx-2 my-2 text-black hover:border-b-2 hover:border-purple-700 dark:text-white\">\n",
            "         <a href=\"/videos/\">\n",
            "          Courses\n",
            "         </a>\n",
            "        </li>\n",
            "        <li class=\"mx-2 my-2 text-black hover:border-b-2 hover:border-purple-700 dark:text-white\">\n",
            "         <a href=\"/tutorials/\">\n",
            "          Tutorial\n",
            "         </a>\n",
            "        </li>\n",
            "        <li class=\"mx-2 my-2 text-black hover:border-b-2 hover:border-purple-700 dark:text-white\">\n",
            "         <a href=\"/blog/\">\n",
            "          Blog\n",
            "         </a>\n",
            "        </li>\n",
            "        <li class=\"mx-2 my-2 text-black hover:border-b-2 hover:border-purple-700 dark:text-white\">\n",
            "         <a href=\"/notes/\">\n",
            "          Notes\n",
            "         </a>\n",
            "        </li>\n",
            "        <li class=\"mx-2 my-2 text-black hover:border-b-2 hover:border-purple-700 dark:text-white\">\n",
            "         <a href=\"/contact/\">\n",
            "          Contact\n",
            "         </a>\n",
            "        </li>\n",
            "        <li class=\"mx-2 my-2 text-black hover:border-b-2 hover:border-purple-700 dark:text-white\">\n",
            "         <a href=\"/my-gear/\">\n",
            "          My Gear\n",
            "         </a>\n",
            "        </li>\n",
            "        <li class=\"mx-2 my-2 text-black hover:border-b-2 hover:border-purple-700 dark:text-white\">\n",
            "         <a href=\"/work/\">\n",
            "          Work With Us\n",
            "         </a>\n",
            "        </li>\n",
            "        <li>\n",
            "         <svg class=\"hidden md:block text-purple-700 mt-1 ml-2 cursor-pointer dark:text-white\" fill=\"currentColor\" height=\"28\" stroke=\"currentColor\" stroke-width=\"0\" viewbox=\"0 0 16 16\" width=\"28\" xmlns=\"http://www.w3.org/2000/svg\">\n",
            "          <path d=\"M6 .278a.768.768 0 0 1 .08.858 7.208 7.208 0 0 0-.878 3.46c0 4.021 3.278 7.277 7.318 7.277.527 0 1.04-.055 1.533-.16a.787.787 0 0 1 .81.316.733.733 0 0 1-.031.893A8.349 8.349 0 0 1 8.344 16C3.734 16 0 12.286 0 7.71 0 4.266 2.114 1.312 5.124.06A.752.752 0 0 1 6 .278z\">\n",
            "          </path>\n",
            "          <path d=\"M10.794 3.148a.217.217 0 0 1 .412 0l.387 1.162c.173.518.579.924 1.097 1.097l1.162.387a.217.217 0 0 1 0 .412l-1.162.387a1.734 1.734 0 0 0-1.097 1.097l-.387 1.162a.217.217 0 0 1-.412 0l-.387-1.162A1.734 1.734 0 0 0 9.31 6.593l-1.162-.387a.217.217 0 0 1 0-.412l1.162-.387a1.734 1.734 0 0 0 1.097-1.097l.387-1.162zM13.863.099a.145.145 0 0 1 .274 0l.258.774c.115.346.386.617.732.732l.774.258a.145.145 0 0 1 0 .274l-.774.258a1.156 1.156 0 0 0-.732.732l-.258.774a.145.145 0 0 1-.274 0l-.258-.774a1.156 1.156 0 0 0-.732-.732l-.774-.258a.145.145 0 0 1 0-.274l.774-.258c.346-.115.617-.386.732-.732L13.863.1z\">\n",
            "          </path>\n",
            "         </svg>\n",
            "        </li>\n",
            "       </ul>\n",
            "       <div class=\"text-center my-2 pr-4 pl-2\">\n",
            "        <button class=\"text-white bg-purple-700 hover:bg-purple-800 focus:ring-4 focus:ring-purple-300 font-medium rounded-lg text-sm px-3 py-2 text-center inline-flex items-center mx-1 dark:bg-purple-500 dark:hover:bg-purple-800\">\n",
            "         Login\n",
            "        </button>\n",
            "        <button class=\"text-white bg-purple-700 hover:bg-purple-800 focus:ring-4 focus:ring-purple-300 font-medium rounded-lg text-sm px-3 py-2 text-center inline-flex items-center mx-1 dark:bg-purple-500 dark:hover:bg-purple-800\">\n",
            "         Signup\n",
            "        </button>\n",
            "       </div>\n",
            "      </div>\n",
            "     </div>\n",
            "     <hr class=\"dark:border-gray-500\"/>\n",
            "     <div class=\"max-h-[6vh] min-h-[40px] flex items-center ml-3 mr-3 md:ml-10 md:mr-10 my-1\">\n",
            "      <span>\n",
            "       <svg class=\"text-purple-700 text-xl cursor-pointer dark:text-purple-300\" fill=\"currentColor\" height=\"1em\" stroke=\"currentColor\" stroke-width=\"0\" viewbox=\"0 0 1024 1024\" width=\"1em\" xmlns=\"http://www.w3.org/2000/svg\">\n",
            "        <path d=\"M946.5 505L534.6 93.4a31.93 31.93 0 0 0-45.2 0L77.5 505c-12 12-18.8 28.3-18.8 45.3 0 35.3 28.7 64 64 64h43.4V908c0 17.7 14.3 32 32 32H448V716h112v224h265.9c17.7 0 32-14.3 32-32V614.3h43.4c17 0 33.3-6.7 45.3-18.8 24.9-25 24.9-65.5-.1-90.5z\">\n",
            "        </path>\n",
            "       </svg>\n",
            "      </span>\n",
            "      <ul class=\"space-x-7 m-auto text-purple-700 font-semibold hidden md:flex items-center\">\n",
            "       <li class=\"cursor-pointer hover:border-b-2 hover:border-purple-700 active:border-b-4 dark:text-purple-300\">\n",
            "        <a href=\"/tutorial/html-home/\">\n",
            "         HTML\n",
            "        </a>\n",
            "       </li>\n",
            "       <li class=\"cursor-pointer hover:border-b-2 hover:border-purple-700 active:border-b-4 dark:text-purple-300\">\n",
            "        <a href=\"/tutorial/css-home/\">\n",
            "         CSS\n",
            "        </a>\n",
            "       </li>\n",
            "       <li class=\"cursor-pointer hover:border-b-2 hover:border-purple-700 active:border-b-4 dark:text-purple-300\">\n",
            "        <a href=\"/tutorial/js/\">\n",
            "         JS\n",
            "        </a>\n",
            "       </li>\n",
            "       <li class=\"cursor-pointer hover:border-b-2 hover:border-purple-700 active:border-b-4 dark:text-purple-300\">\n",
            "        <a href=\"/tutorial/c/\">\n",
            "         C\n",
            "        </a>\n",
            "       </li>\n",
            "       <li class=\"cursor-pointer hover:border-b-2 hover:border-purple-700 active:border-b-4 dark:text-purple-300\">\n",
            "        <a href=\"/tutorial/cplusplus/\">\n",
            "         C++\n",
            "        </a>\n",
            "       </li>\n",
            "       <li class=\"cursor-pointer hover:border-b-2 hover:border-purple-700 active:border-b-4 dark:text-purple-300\">\n",
            "        <a href=\"/tutorial/java/\">\n",
            "         JAVA\n",
            "        </a>\n",
            "       </li>\n",
            "       <li class=\"cursor-pointer hover:border-b-2 hover:border-purple-700 active:border-b-4 dark:text-purple-300\">\n",
            "        <a href=\"/tutorial/python/\">\n",
            "         PYTHON\n",
            "        </a>\n",
            "       </li>\n",
            "       <li class=\"cursor-pointer hover:border-b-2 hover:border-purple-700 active:border-b-4 dark:text-purple-300\">\n",
            "        <a href=\"/tutorial/php/\">\n",
            "         PHP\n",
            "        </a>\n",
            "       </li>\n",
            "       <li class=\"cursor-pointer hover:border-b-2 hover:border-purple-700 active:border-b-4 dark:text-purple-300\">\n",
            "        <a href=\"/tutorial/react-home/\">\n",
            "         REACT JS\n",
            "        </a>\n",
            "       </li>\n",
            "      </ul>\n",
            "      <input class=\"hidden right-10 md:right-10 absolute w-48 md:w-60 h-8 bg-white rounded border-2 border-purple-500 focus:border-purple-700 focus:ring-2 focus:ring-indigo-200 text-base outline-none text-gray-700 py-1 px-3 leading-8 transition-colors duration-200 ease-in-out dark:bg-gray-500 dark:text-gray-200\" id=\"search\" placeholder=\"Search...\"/>\n",
            "      <svg class=\"text-purple-700 dark:text-purple-300 cursor-pointer text-2xl absolute right-3 md:right-12 }\" fill=\"currentColor\" height=\"1em\" stroke=\"currentColor\" stroke-width=\"0\" viewbox=\"0 0 1024 1024\" width=\"1em\" xmlns=\"http://www.w3.org/2000/svg\">\n",
            "       <path d=\"M909.6 854.5L649.9 594.8C690.2 542.7 712 479 712 412c0-80.2-31.3-155.4-87.9-212.1-56.6-56.7-132-87.9-212.1-87.9s-155.5 31.3-212.1 87.9C143.2 256.5 112 331.8 112 412c0 80.1 31.3 155.5 87.9 212.1C256.5 680.8 331.8 712 412 712c67 0 130.6-21.8 182.7-62l259.7 259.6a8.2 8.2 0 0 0 11.6 0l43.6-43.5a8.2 8.2 0 0 0 0-11.6zM570.4 570.4C528 612.7 471.8 636 412 636s-116-23.3-158.4-65.6C211.3 528 188 471.8 188 412s23.3-116.1 65.6-158.4C296 211.3 352.2 188 412 188s116.1 23.2 158.4 65.6S636 352.2 636 412s-23.3 116.1-65.6 158.4z\">\n",
            "       </path>\n",
            "      </svg>\n",
            "     </div>\n",
            "     <div class=\"bg-purple-100 text-center shadow-lg absolute w-full dark:bg-gray-600 hidden mt-1 md:hidden\">\n",
            "      <ul>\n",
            "       <li class=\"pt-4 text-purple-500 font-bold\">\n",
            "        <a href=\"/\">\n",
            "         Home\n",
            "        </a>\n",
            "       </li>\n",
            "       <li class=\"pt-4 text-purple-500 font-bold\">\n",
            "        <a href=\"/videos/\">\n",
            "         Courses\n",
            "        </a>\n",
            "       </li>\n",
            "       <li class=\"pt-4 text-purple-500 font-bold flex justify-center ml-3\">\n",
            "        Tutorial\n",
            "        <!-- -->\n",
            "        <svg class=\"mt-1\" fill=\"currentColor\" height=\"1em\" stroke=\"currentColor\" stroke-width=\"0\" viewbox=\"0 0 1024 1024\" width=\"1em\" xmlns=\"http://www.w3.org/2000/svg\">\n",
            "         <path d=\"M840.4 300H183.6c-19.7 0-30.7 20.8-18.5 35l328.4 380.8c9.4 10.9 27.5 10.9 37 0L858.9 335c12.2-14.2 1.2-35-18.5-35z\">\n",
            "         </path>\n",
            "        </svg>\n",
            "       </li>\n",
            "       <li class=\"my-2 text-purple-500 font-semibold text-sm bg-purple-200 dark:bg-gray-700 hidden\">\n",
            "        <ul>\n",
            "         <li class=\"cursor-pointer py-1 border-y-2 dark:border-gray-400\">\n",
            "          <a href=\"/tutorial/html-home/\">\n",
            "           HTML\n",
            "          </a>\n",
            "         </li>\n",
            "         <li class=\"cursor-pointer py-1 border-b-2 dark:border-gray-400\">\n",
            "          <a href=\"/tutorial/css-home/\">\n",
            "           CSS\n",
            "          </a>\n",
            "         </li>\n",
            "         <li class=\"cursor-pointer py-1 border-b-2 dark:border-gray-400\">\n",
            "          <a href=\"/tutorial/js/\">\n",
            "           JS\n",
            "          </a>\n",
            "         </li>\n",
            "         <li class=\"cursor-pointer py-1 border-b-2 dark:border-gray-400\">\n",
            "          <a href=\"/tutorial/c/\">\n",
            "           C\n",
            "          </a>\n",
            "         </li>\n",
            "         <li class=\"cursor-pointer py-1 border-b-2 dark:border-gray-400\">\n",
            "          <a href=\"/tutorial/cplusplus/\">\n",
            "           C++\n",
            "          </a>\n",
            "         </li>\n",
            "         <li class=\"cursor-pointer py-1 border-b-2 dark:border-gray-400\">\n",
            "          <a href=\"/tutorial/java/\">\n",
            "           JAVA\n",
            "          </a>\n",
            "         </li>\n",
            "         <li class=\"cursor-pointer py-1 border-b-2 dark:border-gray-400\">\n",
            "          <a href=\"/tutorial/python/\">\n",
            "           PYTHON\n",
            "          </a>\n",
            "         </li>\n",
            "         <li class=\"cursor-pointer py-1 border-b-2 dark:border-gray-400\">\n",
            "          <a href=\"/tutorial/php/\">\n",
            "           PHP\n",
            "          </a>\n",
            "         </li>\n",
            "         <li class=\"cursor-pointer py-1 border-b-2 dark:border-gray-400\">\n",
            "          <a href=\"/tutorial/react-home/\">\n",
            "           REACT JS\n",
            "          </a>\n",
            "         </li>\n",
            "        </ul>\n",
            "       </li>\n",
            "       <li class=\"pt-4 text-purple-500 font-bold\">\n",
            "        <a href=\"/blog/\">\n",
            "         Blog\n",
            "        </a>\n",
            "       </li>\n",
            "       <li class=\"pt-4 text-purple-500 font-bold\">\n",
            "        <a href=\"/notes/\">\n",
            "         Notes\n",
            "        </a>\n",
            "       </li>\n",
            "       <li class=\"pt-4 text-purple-500 font-bold\">\n",
            "        <a href=\"/contact/\">\n",
            "         Contact\n",
            "        </a>\n",
            "       </li>\n",
            "       <li class=\"pt-4 text-purple-500 font-bold\">\n",
            "        <a href=\"/my-gear/\">\n",
            "         My Gear\n",
            "        </a>\n",
            "       </li>\n",
            "       <li class=\"pt-4 pb-4 text-purple-500 font-bold\">\n",
            "        <a href=\"/work/\">\n",
            "         Work With Us\n",
            "        </a>\n",
            "       </li>\n",
            "      </ul>\n",
            "     </div>\n",
            "    </div>\n",
            "    <div class=\"Toastify\">\n",
            "    </div>\n",
            "    <div class=\"dark:bg-gray-900\">\n",
            "     <div class=\"py-0 md:mx-2\" id=\"imgpreview\">\n",
            "      <div class=\"lg:min-h-screen bg-gray-50 dark:bg-gray-900\">\n",
            "       <div class=\"dark:bg-gray-900 min-h-screen md:px-4\">\n",
            "        <div class=\"bg-gray-50 dark:bg-gray-900 min-h-screen p-4 lg:p-12\">\n",
            "         <div class=\"max-w-screen-lg mx-auto bg-white dark:bg-gray-800 rounded-lg shadow-md p-6 lg:p-10\">\n",
            "          <h1 class=\"text-center text-xl md:text-3xl justify-center lg:text-4xl font-semibold text-gray-800 dark:text-white mb-1 flex\">\n",
            "           A Comprehensive Guide to Using Stackry for International Shopping\n",
            "           <!-- -->\n",
            "          </h1>\n",
            "          <div class=\"flex items-center mb-6 flex-col md:flex-row md:justify-center\">\n",
            "           <div class=\"image flex justify-center items-center\">\n",
            "            <div class=\"h-8 w-8 overflow-hidden rounded-full\">\n",
            "             <a class=\"block w-full h-full\" href=\"https://www.codewithharry.com/\">\n",
            "              <img alt=\"Haris Ali Khan's photo\" class=\"w-full h-full object-cover\" src=\"https://www.codewithharry.com/img/logo-blue.png\"/>\n",
            "             </a>\n",
            "            </div>\n",
            "            <a class=\"text-sm text-slate-900 dark:text-white hover:text-purple-700 transition ease-in-out duration-150 mx-2\" href=\"https://www.codewithharry.com/\">\n",
            "             Haris Ali Khan\n",
            "            </a>\n",
            "           </div>\n",
            "           <div class=\"rest flex mt-3 md:mt-0\">\n",
            "            <span class=\"mx-1 hidden font-bold dark:text-gray-400 text-slate-500 md:block\">\n",
            "             ·\n",
            "            </span>\n",
            "            <span class=\"text-sm dark:text-gray-400 text-gray-500 mx-2\">\n",
            "             <!-- -->\n",
            "             November 20, 2023\n",
            "             <!-- -->\n",
            "            </span>\n",
            "            <span class=\"mx-1 hidden font-bold dark:text-gray-400 text-slate-500 md:block\">\n",
            "             ·\n",
            "            </span>\n",
            "            <span class=\"text-sm dark:text-gray-400 text-gray-500 flex mx-2\">\n",
            "             <!-- -->\n",
            "             <svg class=\"mr-2 h-5 w-5 fill-current opacity-75\" viewbox=\"0 0 576 512\">\n",
            "              <path d=\"M540.9 56.77c-45.95-16.66-90.23-24.09-129.1-24.75-60.7.94-102.7 17.45-123.8 27.72-21.1-10.27-64.1-26.8-123.2-27.74-40-.05-84.4 8.35-129.7 24.77C14.18 64.33 0 84.41 0 106.7v302.9c0 14.66 6.875 28.06 18.89 36.8 11.81 8.531 26.64 10.98 40.73 6.781 118.9-36.34 209.3 19.05 214.3 22.19C277.8 477.6 281.2 480 287.1 480c6.52 0 10.12-2.373 14.07-4.578 10.78-6.688 98.3-57.66 214.3-22.27 14.11 4.25 28.86 1.75 40.75-6.812C569.1 437.6 576 424.2 576 409.6V106.7c0-22.28-14.2-42.35-35.1-49.93zM272 438.1c-24.95-12.03-71.01-29.37-130.5-29.37-27.83 0-58.5 3.812-91.19 13.77-4.406 1.344-9 .594-12.69-2.047C34.02 417.8 32 413.1 32 409.6V106.7c0-8.859 5.562-16.83 13.86-19.83C87.66 71.7 127.9 63.95 164.5 64c51.8.81 89.7 15.26 107.5 23.66V438.1zm272-28.5c0 4.375-2.016 8.234-5.594 10.84-3.766 2.703-8.297 3.422-12.69 2.125C424.1 391.6 341.3 420.4 304 438.3V87.66c17.8-8.4 55.7-22.85 107.4-23.66 35.31-.063 76.34 7.484 118.8 22.88 8.2 3 13.8 10.96 13.8 19.82v302.9z\">\n",
            "              </path>\n",
            "             </svg>\n",
            "             3\n",
            "             <!-- -->\n",
            "             min read\n",
            "             <!-- -->\n",
            "            </span>\n",
            "            <!-- -->\n",
            "           </div>\n",
            "          </div>\n",
            "          <div class=\"cont leading-relaxed text-dark dark:text-gray-100\">\n",
            "          </div>\n",
            "         </div>\n",
            "        </div>\n",
            "       </div>\n",
            "       <div class=\"flex items-center justify-center mt-2 mb-7 w-full max-w-5xl mx-auto rounded-lg dark:border-black\">\n",
            "        <form class=\"w-full bg-white shadow-xl mx-4 md:mx-16 lg:mx-0 mb-4 rounded-lg px-4 pt-2 dark:bg-slate-700\">\n",
            "         <div class=\"flex flex-wrap -mx-3 mb-6\">\n",
            "          <h2 class=\"px-4 pt-3 pb-2 text-gray-800 text-lg lg:text-xl font-bold my-4 dark:text-gray-300\">\n",
            "           Add a new comment\n",
            "          </h2>\n",
            "          <div class=\"w-full md:w-full px-3 mb-2 mt-2\">\n",
            "           <textarea class=\"bg-gray-100 rounded border border-gray-400 leading-normal resize-none w-full h-20 py-2 px-3 font-medium placeholder-gray-700 focus:outline-none focus:bg-white dark:bg-slate-600 dark:text-gray-200 dark:placeholder-gray-400\" name=\"comment\" placeholder=\"Type Your Comment\" required=\"\"></textarea>\n",
            "          </div>\n",
            "          <div class=\"w-full md:w-full flex items-start px-3\">\n",
            "           <div class=\"-mr-1\">\n",
            "            <input class=\"disabled:bg-gray-200 disabled:text-gray-400 disabled:cursor-default text-white bg-purple-700 hover:bg-purple-800 focus:ring-4 focus:ring-purple-300 font-medium rounded-lg text-sm px-3 py-2 text-center inline-flex items-center mx-1 cursor-pointer\" type=\"submit\" value=\"Post Comment\"/>\n",
            "           </div>\n",
            "          </div>\n",
            "         </div>\n",
            "        </form>\n",
            "       </div>\n",
            "       <div class=\"max-w-5xl mx-auto pt-4 pb-8\">\n",
            "       </div>\n",
            "      </div>\n",
            "     </div>\n",
            "    </div>\n",
            "    <footer class=\"text-gray-600 bg-white body-font dark:bg-gray-800 dark:text-white\">\n",
            "     <div class=\"container mx-auto py-4 px-5 flex flex-wrap flex-col sm:flex-row\">\n",
            "      <div class=\"flex title-font font-medium items-center md:justify-start justify-center text-gray-900 dark:text-gray-200\">\n",
            "       <img alt=\"CodeWithHarry Logo\" class=\"rounded h-12\" height=\"48\" name=\"logo\" src=\"/img/logo-blue.png\" width=\"48\"/>\n",
            "       <div class=\"ml-3 text-xl\">\n",
            "        CodeWithHarry\n",
            "       </div>\n",
            "      </div>\n",
            "      <p class=\"text-sm text-gray-500 sm:ml-4 sm:pl-4 sm:border-l-2 sm:border-gray-200 sm:py-2 mt-4 md:mt-2 mb-2 md:mb-0 text-center dark:text-gray-400\">\n",
            "       Copyright ©\n",
            "       <!-- -->\n",
            "       2024\n",
            "       <!-- -->\n",
            "       CodeWithHarry.com\n",
            "       <!-- -->\n",
            "      </p>\n",
            "      <div class=\"inline-flex sm:ml-auto sm:mt-0 mt-2 justify-center sm:justify-start\" style=\"align-items:center\">\n",
            "       <a aria-label=\"facebook\" class=\"text-gray-500 dark:text-gray-300\" href=\"https://www.facebook.com/codewithharry\" rel=\"noreferrer\" target=\"_blank\">\n",
            "        <svg class=\"w-5 h-5\" fill=\"currentColor\" stroke-linecap=\"round\" stroke-linejoin=\"round\" stroke-width=\"2\" viewbox=\"0 0 24 24\">\n",
            "         <path d=\"M18 2h-3a5 5 0 00-5 5v3H7v4h3v8h4v-8h3l1-4h-4V7a1 1 0 011-1h3z\">\n",
            "         </path>\n",
            "        </svg>\n",
            "       </a>\n",
            "       <a aria-label=\"twitter\" class=\"ml-3 text-gray-500 dark:text-gray-300\" href=\"https://www.twitter.com/codewithharry\" rel=\"noreferrer\" target=\"_blank\">\n",
            "        <svg class=\"w-5 h-5\" fill=\"currentColor\" stroke-linecap=\"round\" stroke-linejoin=\"round\" stroke-width=\"2\" viewbox=\"0 0 24 24\">\n",
            "         <path d=\"M23 3a10.9 10.9 0 01-3.14 1.53 4.48 4.48 0 00-7.86 3v1A10.66 10.66 0 013 4s-4 9 5 13a11.64 11.64 0 01-7 2c9 5 20 0 20-11.5a4.5 4.5 0 00-.08-.83A7.72 7.72 0 0023 3z\">\n",
            "         </path>\n",
            "        </svg>\n",
            "       </a>\n",
            "       <a aria-label=\"instagram\" class=\"ml-3 text-gray-500 dark:text-gray-300\" href=\"https://www.instagram.com/codewithharry\" rel=\"noreferrer\" target=\"_blank\">\n",
            "        <svg class=\"w-5 h-5\" fill=\"none\" stroke=\"currentColor\" stroke-linecap=\"round\" stroke-linejoin=\"round\" stroke-width=\"2\" viewbox=\"0 0 24 24\">\n",
            "         <rect height=\"20\" rx=\"5\" ry=\"5\" width=\"20\" x=\"2\" y=\"2\">\n",
            "         </rect>\n",
            "         <path d=\"M16 11.37A4 4 0 1112.63 8 4 4 0 0116 11.37zm1.5-4.87h.01\">\n",
            "         </path>\n",
            "        </svg>\n",
            "       </a>\n",
            "       <a aria-label=\"github\" class=\"ml-3 text-gray-500 dark:text-gray-300\" href=\"https://www.github.com/codewithharry\" rel=\"noreferrer\" target=\"_blank\">\n",
            "        <svg class=\"text-xl\" fill=\"currentColor\" height=\"1em\" stroke=\"currentColor\" stroke-width=\"0\" viewbox=\"0 0 1024 1024\" width=\"1em\" xmlns=\"http://www.w3.org/2000/svg\">\n",
            "         <path d=\"M511.6 76.3C264.3 76.2 64 276.4 64 523.5 64 718.9 189.3 885 363.8 946c23.5 5.9 19.9-10.8 19.9-22.2v-77.5c-135.7 15.9-141.2-73.9-150.3-88.9C215 726 171.5 718 184.5 703c30.9-15.9 62.4 4 98.9 57.9 26.4 39.1 77.9 32.5 104 26 5.7-23.5 17.9-44.5 34.7-60.8-140.6-25.2-199.2-111-199.2-213 0-49.5 16.3-95 48.3-131.7-20.4-60.5 1.9-112.3 4.9-120 58.1-5.2 118.5 41.6 123.2 45.3 33-8.9 70.7-13.6 112.9-13.6 42.4 0 80.2 4.9 113.5 13.9 11.3-8.6 67.3-48.8 121.3-43.9 2.9 7.7 24.7 58.3 5.5 118 32.4 36.8 48.9 82.7 48.9 132.3 0 102.2-59 188.1-200 212.9a127.5 127.5 0 0 1 38.1 91v112.5c.8 9 0 17.9 15 17.9 177.1-59.7 304.6-227 304.6-424.1 0-247.2-200.4-447.3-447.5-447.3z\">\n",
            "         </path>\n",
            "        </svg>\n",
            "       </a>\n",
            "      </div>\n",
            "     </div>\n",
            "    </footer>\n",
            "   </div>\n",
            "  </div>\n",
            "  <script id=\"__NEXT_DATA__\" type=\"application/json\">\n",
            "   {\"props\":{\"pageProps\":{\"blog\":{\"_id\":\"655b7ba5f717c2b9e2e0f8ca\",\"title\":\"A Comprehensive Guide to Using Stackry for International Shopping\",\"image\":\"\",\"content\":\"\\u003cp\\u003eIn today's interconnected world, the desire for cutting-edge tech gadgets, unique international products, and exclusive US deals has reached an unprecedented level. However, many consumers face the challenge of obtaining products not readily available in their home country. This is where Stackry emerges as a revolutionary solution, simplifying the process of ordering from the US and having it shipped effortlessly to India.\\u003c/p\\u003e\\n\\u003ch2\\u003eHow Stackry Bridges the Gap\\u003c/h2\\u003e\\n\\u003cp\\u003e\\u003ca href=\\\"https://www.stackry.com/en\\\" target=\\\"_blank\\\" rel=\\\"noopener\\\"\\u003eStackry \\u003c/a\\u003eacts as a bridge between Indian consumers and US retailers, enabling users to shop from any US store, including giants like Amazon. The process is remarkably straightforward:\\u003c/p\\u003e\\n\\u003col start=\\\"1\\\" type=\\\"1\\\"\\u003e\\n\\u003cli\\u003eCreate an Account: Begin by creating an account on the \\u003ca href=\\\"https://www.stackry.com/en\\\" target=\\\"_blank\\\" rel=\\\"noopener\\\"\\u003eStackry website\\u003c/a\\u003e. Provide the necessary information, and you're ready to embark on your international shopping adventure.\\u003c/li\\u003e\\n\\u003cli\\u003eVirtual US Address: Stackry assigns users a unique virtual US address. This address serves as a secure location where your physical shipments will be stored.\\u003c/li\\u003e\\n\\u003cli\\u003eShop from Any US Retailer: Whether you're a programmer seeking the latest graphics cards, a PC enthusiast looking for cutting-edge components, or simply someone seeking specific items from the US, Stackry empowers you to shop from your favorite US retailers.\\u003c/li\\u003e\\n\\u003cli\\u003eFree 45-Day Storage: Stackry offers a generous 45-day locker service where you can store your packages without any charge. During this period, you can consolidate your purchases and create a cart, ensuring you get the most out of your international shopping spree.\\u003c/li\\u003e\\n\\u003cli\\u003eOrder to India: Once you've accumulated your desired items in the locker, you can order them as a single package to be delivered directly to your address in India. Stackery provides the flexibility to choose your preferred shipping speed, offering options for both cost-effective and expedited deliveries.\\u003c/li\\u003e\\n\\u003c/ol\\u003e\\n\\u003ch2\\u003eBenefits of Stackry\\u003c/h2\\u003e\\n\\u003cp\\u003eStackry\\u0026rsquo;s appeal extends beyond its seamless shopping process. It presents a host of advantages that make it a compelling choice for international shoppers:\\u003c/p\\u003e\\n\\u003col start=\\\"1\\\" type=\\\"1\\\"\\u003e\\n\\u003cli\\u003eCost Savings: By shopping within the US and consolidating your shipments, you can significantly reduce shipping costs, making your international purchases more affordable.\\u003c/li\\u003e\\n\\u003cli\\u003eTransparency and Control: Stackry empowers users to declare the value of their shipments, providing transparency and control over customs duties and taxes.\\u003c/li\\u003e\\n\\u003cli\\u003eTrusted Service: Stackry is a well-established and trusted company in the US, alleviating concerns about the reliability of the service. Its reputation and expertise ensure your international shopping experience is smooth and secure.\\u003c/li\\u003e\\n\\u003cli\\u003eAccess to US Sales and Discounts: Take advantage of US sales events like Black Friday and Cyber Monday, and apply Stackry discounts to enhance your savings. With Stackry, you can enjoy the same deals as American consumers.\\u003c/li\\u003e\\n\\u003cli\\u003eDirect from Manufacturer: Ordering directly from the US allows you to receive products directly from the manufacturer, ensuring authenticity, quality, and the latest product versions.\\u003c/li\\u003e\\n\\u003c/ol\\u003e\\n\\u003ch2\\u003eConclusion\\u003c/h2\\u003e\\n\\u003cp\\u003eStackry revolutionizes the concept of international shopping, addressing common challenges faced by tech enthusiasts and consumers worldwide. Whether you're seeking specific tech gadgets, hardware components, or simply want to explore the world of US sales and discounts, Stackery provides a convenient, cost-effective, and secure solution. Consider trying Stackery for your next international purchase and unlock a world of possibilities in the realm of hassle-free cross-border shopping.\\u003c/p\\u003e\",\"slug\":\"stackery-international-shopping-guide-india\",\"metadesc\":\"In today's interconnected world, the desire for cutting-edge tech gadgets, unique international products, and exclusive US deals has reached an unprecedented level. However, many consumers face the challenge of obtaining products not readily available in their home country. This is where Stackry emerges as a revolutionary solution, simplifying the process of ordering from the US and having it shipped effortlessly to India.\",\"is_published\":true,\"createdAt\":\"2023-11-20T15:30:45.813Z\",\"updatedAt\":\"2023-11-20T15:34:54.191Z\",\"__v\":0,\"formattedCreatedAt\":\"November 20, 2023\"},\"_sentryTraceData\":\"f19e09f4ea0945bf90e4bc55df7dd373-923e937dc5697814-1\",\"_sentryBaggage\":\"sentry-environment=production,sentry-release=v1SLuCOVtvY7sXWsC5M4x,sentry-public_key=c319afcdb871104371fda78a10f7427b,sentry-trace_id=f19e09f4ea0945bf90e4bc55df7dd373,sentry-sample_rate=1,sentry-transaction=%2Fblogpost%2F%5Bslug%5D,sentry-sampled=true\"},\"__N_SSP\":true},\"page\":\"/blogpost/[slug]\",\"query\":{\"slug\":\"stackery-international-shopping-guide-india\"},\"buildId\":\"v1SLuCOVtvY7sXWsC5M4x\",\"isFallback\":false,\"gssp\":true,\"scriptLoader\":[]}\n",
            "  </script>\n",
            " </body>\n",
            "</html>\n",
            "\n"
          ]
        }
      ]
    },
    {
      "cell_type": "code",
      "source": [
        "for heading in soup.find_all(\"h1\"):\n",
        "  print(heading.text)"
      ],
      "metadata": {
        "colab": {
          "base_uri": "https://localhost:8080/"
        },
        "id": "bLCp-_pzp4V1",
        "outputId": "b6b0243d-bd09-4945-dab8-85a0ece97704"
      },
      "execution_count": 12,
      "outputs": [
        {
          "output_type": "stream",
          "name": "stdout",
          "text": [
            "A Comprehensive Guide to Using Stackry for International Shopping\n"
          ]
        }
      ]
    },
    {
      "cell_type": "markdown",
      "source": [
        "0e93fb79c4fb4876a7db44f156e603d8 - API KEY"
      ],
      "metadata": {
        "id": "tsSn8kgVrQaY"
      }
    },
    {
      "cell_type": "code",
      "source": [
        "import json"
      ],
      "metadata": {
        "id": "HMp2UkzpuDAt"
      },
      "execution_count": 20,
      "outputs": []
    },
    {
      "cell_type": "code",
      "source": [
        "t=input(\"Enter the category of news you want to see \")\n",
        "url=f\"https://newsapi.org/v2/top-headlines?country=us&category={t}&apikey=0e93fb79c4fb4876a7db44f156e603d8\"\n",
        "response=requests.get(url)\n",
        "news=json.loads(response.text)\n",
        "for i in news[\"articles\"]:\n",
        "  print(i[\"title\"])\n",
        "  print(i[\"description\"])\n",
        "  print(i[\"url\"])\n",
        "  print(\"\\n\")\n",
        "# soup=bs4.BeautifulSoup(response.text,\"html.parser\")\n",
        "# print(soup.prettify())\n"
      ],
      "metadata": {
        "colab": {
          "base_uri": "https://localhost:8080/"
        },
        "collapsed": true,
        "id": "_5wZlMTzqV6o",
        "outputId": "9274b606-f8e3-435f-9ab4-487fbf38d26a"
      },
      "execution_count": 27,
      "outputs": [
        {
          "output_type": "stream",
          "name": "stdout",
          "text": [
            "Enter the category of news you want to see sports\n",
            "Davante Adams trade rumors: Cowboys, Jets, Steelers among teams already interested - CBS Sports\n",
            "The star wideout reportedly wants to be dealt\n",
            "https://www.cbssports.com/nfl/news/davante-adams-trade-rumors-cowboys-jets-steelers-among-teams-already-interested/\n",
            "\n",
            "\n",
            "[Removed]\n",
            "[Removed]\n",
            "https://removed.com\n",
            "\n",
            "\n",
            "Michael Jordan’s 23XI and a 2nd team sue NASCAR over revenue sharing model - The Associated Press\n",
            "NASCAR is facing a federal antitrust lawsuit from two of its teams, including one co-owned by Michael Jordan. The suit seeks unspecified damages and says the charter system limits competition by unfairly binding the teams to the stock car series. NASCAR gave …\n",
            "https://apnews.com/article/nascar-antitrust-lawsuit-jordan-bded312b0330122249824cbc059dabf5\n",
            "\n",
            "\n",
            "Buccaneers vs. Falcons odds, prediction, time: Thursday Night Football picks by NFL model on 42-23 run - CBS Sports\n",
            "SportsLine's model simulated Atlanta Falcons vs. Tampa Bay Bucs on Thursday Night Football 10,000 times\n",
            "https://www.cbssports.com/nfl/news/buccaneers-vs-falcons-odds-prediction-time-thursday-night-football-picks-by-nfl-model-on-42-23-run/\n",
            "\n",
            "\n",
            "Self-learning AI shares NFL against the spread, over-under, money-line picks for every Week 5, 2024 game - CBS Sports\n",
            "SportsLine AI evaluated the Week 5 NFL odds and revealed its NFL predictions, NFL score predictions, and NFL betting picks for every game\n",
            "https://www.cbssports.com/nfl/news/self-learning-ai-shares-nfl-against-the-spread-over-under-money-line-picks-for-every-week-5-2024-game/\n",
            "\n",
            "\n",
            "MLB Wild Card Game 1 round-up: Padres shut out Braves, Mets continue clutch run, Tigers and Royals claim narrow victories - CNN\n",
            "The MLB postseason got underway on Tuesday, with eight teams competing in Game 1 of the NL and AL Wild Card series.\n",
            "https://www.cnn.com/2024/10/02/sport/mlb-wild-card-game-1-wrap-spt-intl/index.html\n",
            "\n",
            "\n",
            "[Removed]\n",
            "[Removed]\n",
            "https://removed.com\n",
            "\n",
            "\n",
            "Quarterback Start 'Em, Sit 'Em Picks For Fantasy Football Week 5 - Sports Illustrated\n",
            "Sports Illustrated's Michael Fabiano breaks down the quarterbacks to start and sit in Week 5 of the 2024 NFL season.\n",
            "https://www.si.com/fantasy/quarterback-start-em-sit-em-picks-fantasy-football-week-5\n",
            "\n",
            "\n",
            "Aaron Rodgers: I have a great relationship with Robert Saleh - NBC Sports\n",
            "During the Jets' Week Three win over the Patriots, an awkward moment occurred when head coach Robert Saleh appeared to try to hug quarterback Aaron Rodgers and Rodgers pushed Saleh in the chest.\n",
            "https://www.nbcsports.com/nfl/profootballtalk/rumor-mill/news/aaron-rodgers-i-have-a-great-relationship-with-robert-saleh\n",
            "\n",
            "\n",
            "Jared Goff’s TD catch came on trick play called “Alcatraz” Lions have practiced for years - NBC Sports\n",
            "Amon-Ra St. Brown threw the touchdown pass to Goff on a play the Lions have been waiting for the right time to unleash.\n",
            "https://www.nbcsports.com/nfl/profootballtalk/rumor-mill/news/jared-goffs-td-catch-came-on-trick-play-called-alcatraz-lions-have-practiced-for-years\n",
            "\n",
            "\n",
            "Iglesias' dash sparks aggressive Mets to Game 1 win over Crew - MLB.com\n",
            "None\n",
            "https://www.mlb.com/news/mets-win-nl-wild-card-game-1-2024\n",
            "\n",
            "\n",
            "'This one was different.' Gonzaga accepts invitation to newly formed Pac-12, ending 45-year tenure in WCC - The Spokesman Review\n",
            "Not long after Gonzaga and its fledgling athletic department joined the West Coast Conference in 1979, the school’s longtime athletic director, Mike Roth, began hearing murmurs.\n",
            "https://www.spokesman.com/stories/2024/oct/01/gonzaga-leaving-west-coast-conference-to-join-pac-/\n",
            "\n",
            "\n",
            "Kerr says all but Curry's starting job up for grabs - ESPN\n",
            "Steve Kerr on Tuesday emphasized \"competition across the board\" for the Warriors' starting spots -- and his aim for Golden State is to establish an identity out of that competition.\n",
            "https://www.espn.com/nba/story/_/id/41561666/steve-kerr-emphasizes-competition-board-warriors-starting-lineup\n",
            "\n",
            "\n",
            "The inside story of Buster Posey’s Giants coronation - The San Francisco Standard\n",
            "Before he agreed to become the Giants' president of baseball operations, Posey had to get his affairs in order, then decide he really wanted the job.\n",
            "https://sfstandard.com/2024/10/01/the-inside-story-of-buster-poseys-giants-coronation/\n",
            "\n",
            "\n",
            "'Playoff basketball' gets chippy as Lynx top Sun - ESPN\n",
            "What started as a playoff game on Tuesday nearly descended into a 1980s Chicago Bulls-Detroit Pistons affair, as the Minnesota Lynx outlasted the Sun 77-70 to even the WNBA semifinal 1-1, but did so among a bevvy of hard fouls, cheap shots and trash talk.\n",
            "https://www.espn.com/wnba/story/_/id/41561046/minnesota-lynx-defeat-connecticut-sun-even-series-1-1\n",
            "\n",
            "\n",
            "Another school forfeits volleyball match with SJSU after lawsuit alleges player is transgender - KRON4\n",
            "(KRON) — A third San Jose State University volleyball match was canceled when the University of Wyoming said on Tuesday that it would forfeit its upcoming match against the Spartans. Wyoming’s forfeit comes after an SJSU player said in a lawsuit that her team…\n",
            "https://www.kron4.com/news/bay-area/another-school-forfeits-volleyball-match-with-sjsu-after-lawsuit-alleges-player-is-transgender/\n",
            "\n",
            "\n",
            "NBA Rumors: Towns-Randle Trade Terms Revealed for Knicks, Wolves, Hornets 3-Team Deal - Bleacher Report\n",
            "As part of the Karl-Anthony Towns for Julius Randle and Donte DiVincenzo trade, the Charlotte Hornets are receiving a handful of players and picks. Per The…\n",
            "https://bleacherreport.com/articles/10137665-nba-rumors-towns-randle-trade-terms-revealed-for-knicks-wolves-hornets-3-team-deal\n",
            "\n",
            "\n",
            "Eye-popping NextGen stats highlight 49ers' dominance vs. Pats - NBC Sports Bay Area\n",
            "These eye-popping NextGen stats encapsulate the San Francisco 49ers' impressive win over the New England Patriots.\n",
            "https://www.nbcsportsbayarea.com/nfl/san-francisco-49ers/eye-popping-nextgen-stats-win-patriots/1788709/\n",
            "\n",
            "\n",
            "Baseball legend Pete Rose's cause of death revealed - USA TODAY\n",
            "Baseball legend Pete Rose died Monday at 83. The Clark County (Nevada) Coroner’s Office revealed the cause of death Tuesday.\n",
            "https://www.usatoday.com/story/sports/mlb/reds/2024/10/01/pete-rose-cause-of-death/75474960007/\n",
            "\n",
            "\n",
            "MLB playoffs 2024: Tarik Skubal delivers to lead Tigers to upset of Astros in Game 1 of AL wild-card series - Yahoo Sports\n",
            "The Tigers' incredible run continued with a 3-1 victory behind a masterful performance from Detroit's ace.\n",
            "https://sports.yahoo.com/mlb-playoffs-2024-tarik-skubal-delivers-to-lead-tigers-to-upset-of-astros-in-game-1-of-al-wild-card-series-001029568.html\n",
            "\n",
            "\n"
          ]
        }
      ]
    },
    {
      "cell_type": "code",
      "source": [
        "def my_generator():\n",
        "  for i in range(10):\n",
        "    yield i\n",
        "gen=my_generator()\n",
        "print(next(gen))\n",
        "print(next(gen))"
      ],
      "metadata": {
        "colab": {
          "base_uri": "https://localhost:8080/"
        },
        "id": "61i9-btS7GEA",
        "outputId": "33dd6dba-c68d-49d6-9e90-93212d2ee8d7"
      },
      "execution_count": 32,
      "outputs": [
        {
          "output_type": "stream",
          "name": "stdout",
          "text": [
            "0\n",
            "1\n"
          ]
        }
      ]
    },
    {
      "cell_type": "code",
      "source": [
        "import functools"
      ],
      "metadata": {
        "id": "L-e2YiSF8gqu"
      },
      "execution_count": 33,
      "outputs": []
    },
    {
      "cell_type": "code",
      "source": [
        "import time"
      ],
      "metadata": {
        "id": "NV1ZDevVQE7P"
      },
      "execution_count": 34,
      "outputs": []
    },
    {
      "cell_type": "code",
      "source": [
        "from functools import lru_cache\n",
        "@lru_cache(maxsize=None)\n",
        "def fib(n):\n",
        "  time.sleep(1)\n",
        "  if n==0:\n",
        "    return 0\n",
        "  elif n==1:\n",
        "    return 1\n",
        "  else:\n",
        "    return fib(n-1)+fib(n-2)\n",
        "\n",
        "\n",
        "print(fib(5))\n",
        "\n",
        "\n",
        "print(fib(5))\n",
        "print(fib(6))"
      ],
      "metadata": {
        "colab": {
          "base_uri": "https://localhost:8080/"
        },
        "id": "C07wnq4XQHxH",
        "outputId": "49b1cf48-cdf0-4877-8cf8-1be5282bb21e"
      },
      "execution_count": 41,
      "outputs": [
        {
          "output_type": "stream",
          "name": "stdout",
          "text": [
            "5\n",
            "5\n",
            "8\n"
          ]
        }
      ]
    },
    {
      "cell_type": "code",
      "source": [
        "import os\n",
        "import time\n",
        "Repeatinterval =5\n",
        "while True:\n",
        "  command=\"osascript -e \\'say \\\"Hey SK drink water\\\"\\'; osacript -e \\'display alert \\\"Hey SK drink water\\\"\\'\"\n",
        "  os.system(command)\n",
        "  time.sleep(Repeatinterval)\n",
        ""
      ],
      "metadata": {
        "colab": {
          "base_uri": "https://localhost:8080/",
          "height": 198
        },
        "id": "yHqeaSE9Q0HL",
        "outputId": "013c0bc8-5bd0-47fe-81a2-8d4323c21c95"
      },
      "execution_count": 54,
      "outputs": [
        {
          "output_type": "error",
          "ename": "KeyboardInterrupt",
          "evalue": "",
          "traceback": [
            "\u001b[0;31m---------------------------------------------------------------------------\u001b[0m",
            "\u001b[0;31mKeyboardInterrupt\u001b[0m                         Traceback (most recent call last)",
            "\u001b[0;32m<ipython-input-54-30d81b3c7f0a>\u001b[0m in \u001b[0;36m<cell line: 4>\u001b[0;34m()\u001b[0m\n\u001b[1;32m      5\u001b[0m   \u001b[0mcommand\u001b[0m\u001b[0;34m=\u001b[0m\u001b[0;34m\"osascript -e \\'say \\\"Hey SK drink water\\\"\\'; osacript -e \\'display alert \\\"Hey SK drink water\\\"\\'\"\u001b[0m\u001b[0;34m\u001b[0m\u001b[0;34m\u001b[0m\u001b[0m\n\u001b[1;32m      6\u001b[0m   \u001b[0mos\u001b[0m\u001b[0;34m.\u001b[0m\u001b[0msystem\u001b[0m\u001b[0;34m(\u001b[0m\u001b[0mcommand\u001b[0m\u001b[0;34m)\u001b[0m\u001b[0;34m\u001b[0m\u001b[0;34m\u001b[0m\u001b[0m\n\u001b[0;32m----> 7\u001b[0;31m   \u001b[0mtime\u001b[0m\u001b[0;34m.\u001b[0m\u001b[0msleep\u001b[0m\u001b[0;34m(\u001b[0m\u001b[0mRepeatinterval\u001b[0m\u001b[0;34m)\u001b[0m\u001b[0;34m\u001b[0m\u001b[0;34m\u001b[0m\u001b[0m\n\u001b[0m\u001b[1;32m      8\u001b[0m \u001b[0;34m\u001b[0m\u001b[0m\n",
            "\u001b[0;31mKeyboardInterrupt\u001b[0m: "
          ]
        }
      ]
    },
    {
      "cell_type": "markdown",
      "source": [],
      "metadata": {
        "id": "uKgEpUFc0cQd"
      }
    },
    {
      "cell_type": "code",
      "source": [],
      "metadata": {
        "id": "gvo3RYXyQ9Pd"
      },
      "execution_count": null,
      "outputs": []
    }
  ]
}